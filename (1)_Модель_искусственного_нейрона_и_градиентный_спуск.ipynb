{
  "nbformat": 4,
  "nbformat_minor": 0,
  "metadata": {
    "colab": {
      "provenance": [],
      "authorship_tag": "ABX9TyODNXK7FjThXXb7Fw5e9DZa",
      "include_colab_link": true
    },
    "kernelspec": {
      "name": "python3",
      "display_name": "Python 3"
    },
    "language_info": {
      "name": "python"
    }
  },
  "cells": [
    {
      "cell_type": "markdown",
      "metadata": {
        "id": "view-in-github",
        "colab_type": "text"
      },
      "source": [
        "<a href=\"https://colab.research.google.com/github/ElenaShargina/nnetworks/blob/main/(1)_%D0%9C%D0%BE%D0%B4%D0%B5%D0%BB%D1%8C_%D0%B8%D1%81%D0%BA%D1%83%D1%81%D1%81%D1%82%D0%B2%D0%B5%D0%BD%D0%BD%D0%BE%D0%B3%D0%BE_%D0%BD%D0%B5%D0%B9%D1%80%D0%BE%D0%BD%D0%B0_%D0%B8_%D0%B3%D1%80%D0%B0%D0%B4%D0%B8%D0%B5%D0%BD%D1%82%D0%BD%D1%8B%D0%B9_%D1%81%D0%BF%D1%83%D1%81%D0%BA.ipynb\" target=\"_parent\"><img src=\"https://colab.research.google.com/assets/colab-badge.svg\" alt=\"Open In Colab\"/></a>"
      ]
    },
    {
      "cell_type": "markdown",
      "source": [
        "Реализована работа базовой модели искусственного нейрона Мак-Каллока – Питтса.\n",
        "\n",
        "Функция активация - сигмоидальная.\n",
        "Корректировка весов происходит с помощью стохастического градиентного спуска."
      ],
      "metadata": {
        "id": "H45sbZ0bP29n"
      }
    },
    {
      "cell_type": "markdown",
      "source": [
        "# Подготовка данных"
      ],
      "metadata": {
        "id": "epaVFpEuMga8"
      }
    },
    {
      "cell_type": "code",
      "execution_count": 1,
      "metadata": {
        "id": "zQ3tjILVMSCC"
      },
      "outputs": [],
      "source": [
        "# Импортируем необходимые пакеты\n",
        "import numpy as np"
      ]
    },
    {
      "cell_type": "code",
      "source": [
        "# количество элементов в обучающей выборке\n",
        "m = 17\n",
        "# величина шага\n",
        "h = 2\n",
        "# количество эпох без улучшения точности, после которого остановим поиск\n",
        "patience = 10\n",
        "\n",
        "# точность\n",
        "eps = 0.000001\n",
        "\n",
        "# обучающая выборка\n",
        "data_x = np.array([\n",
        "    [0.1, 0.2, 0.3, 0.4],\n",
        "    [0.2, 0.3, 0.4, 0.5],\n",
        "    [0.3, 0.4, 0.5, 0.6],\n",
        "    [0.4, 0.5, 0.6, 0.7],\n",
        "    [0.5, 0.6, 0.7, 0.8],\n",
        "    [0.6, 0.7, 0.8, 0.9],\n",
        "    [0.7, 0.8, 0.9, 0],\n",
        "    [0.8, 0.9, 0, -0.1],\n",
        "    [0.9, 0, -0.1, -0.2],\n",
        "    [0, -0.1, -0.2, -0.3],\n",
        "    [-0.1, -0.2, -0.3, -0.4],\n",
        "    [-0.2, -0.3, -0.4, -0.5],\n",
        "    [-0.3, -0.4, -0.5, -0.6],\n",
        "    [-0.4, -0.5, -0.6, -0.7],\n",
        "    [-0.5, -0.6, -0.7, -0.8],\n",
        "    [-0.6, -0.7, -0.8, -0.9],\n",
        "    [-0.7, -0.8, -0.9, 0]\n",
        "])\n",
        "# правильные ответы к обучающей выборке\n",
        "data_y = np.array([1, 1.2, 1.3, 1.4, 1.5, 1.6, 1.7, 1.8, 1.9, 0, -1, -1.2, -1.3, -1.4, -1.5, -1.6, -1.7])\n"
      ],
      "metadata": {
        "id": "T8Kerm7lMukI"
      },
      "execution_count": 2,
      "outputs": []
    },
    {
      "cell_type": "markdown",
      "source": [
        "Задаем первичные веса - какие-то маленькие значения."
      ],
      "metadata": {
        "id": "X5yMOPNdNZHH"
      }
    },
    {
      "cell_type": "code",
      "source": [
        "weights = np.array([0.1, 0.2, 0.3, 0.4])"
      ],
      "metadata": {
        "id": "CoStOmqPNcJL"
      },
      "execution_count": 3,
      "outputs": []
    },
    {
      "cell_type": "markdown",
      "source": [
        "# Задание функций"
      ],
      "metadata": {
        "id": "elXmifYsYuMa"
      }
    },
    {
      "cell_type": "markdown",
      "source": [
        "Функция активации - сигмоидная\n",
        "\n",
        "$\\phi(x) = \\frac{1}{1+e^{-x}}$"
      ],
      "metadata": {
        "id": "lh3KYYGdM0mh"
      }
    },
    {
      "cell_type": "code",
      "source": [
        "def sigmoid(x):\n",
        "    return 1 / (1 + np.exp(-x))"
      ],
      "metadata": {
        "id": "MA9jzl0JM_Vt"
      },
      "execution_count": 4,
      "outputs": []
    },
    {
      "cell_type": "markdown",
      "source": [
        "Производная от сигмоидной функции\n",
        "\n",
        "$ \\phi^\\prime(x) = \\frac{e^{-x}}{(1+e^{-x})^2}$"
      ],
      "metadata": {
        "id": "VAtWYWyGNDAz"
      }
    },
    {
      "cell_type": "code",
      "source": [
        "def diffsig(x): \n",
        "    return np.exp(-x)/(1+np.exp(-x))**2"
      ],
      "metadata": {
        "id": "c3-DU3vGNKTC"
      },
      "execution_count": 5,
      "outputs": []
    },
    {
      "cell_type": "markdown",
      "source": [
        "Функция потерь (MSE)\n",
        "\n",
        "$E(w_1,...,w_n)=\\frac{\\sum_{i=1}^m{(y-\\phi(\\sum_{i=1}^n{w_ix_i}))^2}}{m}$"
      ],
      "metadata": {
        "id": "VczNU1puNftK"
      }
    },
    {
      "cell_type": "code",
      "source": [
        "def loss_func(weights, data_y, data_x):\n",
        "    return np.sum((data_y - sigmoid(np.sum(data_x*weights)))**2)/weights.size"
      ],
      "metadata": {
        "id": "HyagAFJHNhUS"
      },
      "execution_count": 6,
      "outputs": []
    },
    {
      "cell_type": "markdown",
      "source": [
        "Производная функции потерь по j-му весу\n",
        "\n",
        "$\\frac{\\partial E}{\\partial w_j} = -{\\frac{2}{m}(y-\\phi({\\sum_{i=1}^n}{w_ix_i}))\\phi\\prime({\\sum_{i=1}^n}{w_ix_i})x_j}$"
      ],
      "metadata": {
        "id": "GbovNRbCS0V8"
      }
    },
    {
      "cell_type": "code",
      "source": [
        "def diff_loss_func(j, weights, y, x): \n",
        "    return -2 * (y - sigmoid(np.sum(x*weights))) * diffsig(np.sum(x*weights)) * x[j]/weights.size"
      ],
      "metadata": {
        "id": "yWiHPMBzPW97"
      },
      "execution_count": 7,
      "outputs": []
    },
    {
      "cell_type": "markdown",
      "source": [
        "# Работа алгоритма"
      ],
      "metadata": {
        "id": "FwzX8FkVZafE"
      }
    },
    {
      "cell_type": "markdown",
      "source": [
        "Стохастический градиентный спуск - после анализа каждого элемента выборки будем менять веса модели по формуле\n",
        "$w_i=w_i-h\\frac{\\partial E}{\\partial w_i}$\n"
      ],
      "metadata": {
        "id": "rcIqA68CaiGD"
      }
    },
    {
      "cell_type": "code",
      "source": [
        "# счетчик итераций без улучшений, \n",
        "# заканчиваем цикл, если он достигнет параметра patience\n",
        "failure_stop = 0\n",
        "# порядок просмотра элементов выборки,\n",
        "# будем перемешивать его каждую эпоху\n",
        "index = np.arange(m)\n",
        "\n",
        "for k in range(4000):\n",
        "    # Перемешиваем обучающую выборку\n",
        "    np.random.shuffle(index)\n",
        "    # loss_old - значение функции потерь на предыдущей итерации, \n",
        "    # на первой итерации не существует\n",
        "    if k>0:\n",
        "      loss_old = loss_new\n",
        "\n",
        "    # Изменяем веса после анализа каждого элемента выборки\n",
        "    for i in index:\n",
        "        for j in range(weights.size):\n",
        "          weights[j] = weights[j] - h*diff_loss_func(j, weights, data_y[i], data_x[i])\n",
        "\n",
        "    # высчитываем функцию потерь на новых весах\n",
        "    loss_new = loss_func(weights, data_y, data_x)\n",
        "\n",
        "    # если итерация не первая, то проверяем, улучшилась ли точность\n",
        "    if k>0 and abs(loss_new - loss_old) < eps:\n",
        "        failure_stop += 1\n",
        "    else:\n",
        "        failure_stop = 0\n",
        "\n",
        "    # если точность не улучшилась уже заданное количество итераций, то останавливаем цикл    \n",
        "    if failure_stop == patience:\n",
        "        print(f'Количество итераций без улучшений: {failure_stop}, останавливаем работу алгоритма')\n",
        "        break\n",
        "\n",
        "# выводим результирующие данные\n",
        "print(f'Получившиеся значения весов: {weights.round(6)}')\n",
        "print(f'Количество итераций алгоритма: {k}')\n",
        "print(f'Значение функции потерь на обучающей выборке: {loss_new:.6f}')"
      ],
      "metadata": {
        "colab": {
          "base_uri": "https://localhost:8080/"
        },
        "id": "4QdpcATEPjhX",
        "outputId": "9e3190aa-c8a1-4651-d633-e13cfc5fadee"
      },
      "execution_count": 8,
      "outputs": [
        {
          "output_type": "stream",
          "name": "stdout",
          "text": [
            "Количество итераций без улучшений: 10, останавливаем работу алгоритма\n",
            "Получившиеся значения весов: [7.126878 4.067194 4.387924 4.702111]\n",
            "Количество итераций алгоритма: 202\n",
            "Значение функции потерь на обучающей выборке: 11.007412\n"
          ]
        }
      ]
    },
    {
      "cell_type": "code",
      "source": [
        "for i in range(data_y.size):\n",
        "  print(np.round(np.sum(data_x[i]*weights),2), '---', data_y[i])"
      ],
      "metadata": {
        "colab": {
          "base_uri": "https://localhost:8080/"
        },
        "id": "aR_kQ8GIZK_F",
        "outputId": "8e6127e9-be92-4fe5-e05a-d5a662e51073"
      },
      "execution_count": 11,
      "outputs": [
        {
          "output_type": "stream",
          "name": "stdout",
          "text": [
            "4.72 --- 1.0\n",
            "6.75 --- 1.2\n",
            "8.78 --- 1.3\n",
            "10.81 --- 1.4\n",
            "12.84 --- 1.5\n",
            "14.87 --- 1.6\n",
            "12.19 --- 1.7\n",
            "8.89 --- 1.8\n",
            "5.03 --- 1.9\n",
            "-2.69 --- 0.0\n",
            "-4.72 --- -1.0\n",
            "-6.75 --- -1.2\n",
            "-8.78 --- -1.3\n",
            "-10.81 --- -1.4\n",
            "-12.84 --- -1.5\n",
            "-14.87 --- -1.6\n",
            "-12.19 --- -1.7\n"
          ]
        }
      ]
    }
  ]
}