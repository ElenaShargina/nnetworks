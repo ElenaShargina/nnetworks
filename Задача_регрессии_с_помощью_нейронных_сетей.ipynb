{
  "nbformat": 4,
  "nbformat_minor": 0,
  "metadata": {
    "colab": {
      "provenance": [],
      "include_colab_link": true
    },
    "kernelspec": {
      "name": "python3",
      "display_name": "Python 3"
    }
  },
  "cells": [
    {
      "cell_type": "markdown",
      "metadata": {
        "id": "view-in-github",
        "colab_type": "text"
      },
      "source": [
        "<a href=\"https://colab.research.google.com/github/ElenaShargina/nnetworks/blob/main/%D0%97%D0%B0%D0%B4%D0%B0%D1%87%D0%B0_%D1%80%D0%B5%D0%B3%D1%80%D0%B5%D1%81%D1%81%D0%B8%D0%B8_%D1%81_%D0%BF%D0%BE%D0%BC%D0%BE%D1%89%D1%8C%D1%8E_%D0%BD%D0%B5%D0%B9%D1%80%D0%BE%D0%BD%D0%BD%D1%8B%D1%85_%D1%81%D0%B5%D1%82%D0%B5%D0%B9.ipynb\" target=\"_parent\"><img src=\"https://colab.research.google.com/assets/colab-badge.svg\" alt=\"Open In Colab\"/></a>"
      ]
    },
    {
      "cell_type": "markdown",
      "metadata": {
        "id": "UjfquuN3HkHt"
      },
      "source": [
        "## Решение задачи регрессии с помощью нейронных сетей\n",
        "\n",
        "Определение стоимости недвижимости из набора данных [California Housing Data Set](https://developers.google.com/machine-learning/crash-course/california-housing-data-description).\n"
      ]
    },
    {
      "cell_type": "code",
      "metadata": {
        "id": "VY9tayQBHh1M"
      },
      "source": [
        "from tensorflow.keras.models import Sequential\n",
        "from tensorflow.keras.layers import Dense\n",
        "import pandas as pd\n",
        "import numpy as np\n",
        "import matplotlib.pyplot as plt\n",
        "%matplotlib inline "
      ],
      "execution_count": 57,
      "outputs": []
    },
    {
      "cell_type": "markdown",
      "metadata": {
        "id": "s8hejqycICpn"
      },
      "source": [
        "## Загружаем данные"
      ]
    },
    {
      "cell_type": "markdown",
      "metadata": {
        "id": "s78xf8H8G03s"
      },
      "source": [
        "Просматриваем содержимое каталога с демонстрационными данными Colab"
      ]
    },
    {
      "cell_type": "code",
      "metadata": {
        "id": "aBte_p1uH_NP",
        "outputId": "87dedbbe-d220-4240-82de-3859e215c6d2",
        "colab": {
          "base_uri": "https://localhost:8080/"
        }
      },
      "source": [
        "!ls sample_data"
      ],
      "execution_count": 58,
      "outputs": [
        {
          "output_type": "stream",
          "name": "stdout",
          "text": [
            "anscombe.json\t\t      mnist_test.csv\n",
            "california_housing_test.csv   mnist_train_small.csv\n",
            "california_housing_train.csv  README.md\n"
          ]
        }
      ]
    },
    {
      "cell_type": "markdown",
      "metadata": {
        "id": "kxgTetxpG61J"
      },
      "source": [
        "Загружаем данные для обучения"
      ]
    },
    {
      "cell_type": "code",
      "metadata": {
        "id": "TmRR3ohLG_vG"
      },
      "source": [
        "train = pd.read_csv('sample_data/california_housing_train.csv')"
      ],
      "execution_count": 59,
      "outputs": []
    },
    {
      "cell_type": "markdown",
      "metadata": {
        "id": "MaV73VcTIVtf"
      },
      "source": [
        "Загружаем данные для тестирования"
      ]
    },
    {
      "cell_type": "code",
      "metadata": {
        "id": "PaTmvnDKIZKz"
      },
      "source": [
        "test = pd.read_csv('sample_data/california_housing_test.csv')"
      ],
      "execution_count": 60,
      "outputs": []
    },
    {
      "cell_type": "markdown",
      "metadata": {
        "id": "q6PgURr6Idor"
      },
      "source": [
        "## Исследуем данные"
      ]
    },
    {
      "cell_type": "markdown",
      "metadata": {
        "id": "TnOrmvP3I1ie"
      },
      "source": [
        "Просматриваем данные для обучения"
      ]
    },
    {
      "cell_type": "code",
      "metadata": {
        "id": "PFsrU1kKHcqy",
        "outputId": "6b989c3e-94d0-4378-d7ba-779e35bb2613",
        "colab": {
          "base_uri": "https://localhost:8080/",
          "height": 270
        }
      },
      "source": [
        "train[:5]"
      ],
      "execution_count": 61,
      "outputs": [
        {
          "output_type": "execute_result",
          "data": {
            "text/plain": [
              "   longitude  latitude  housing_median_age  total_rooms  total_bedrooms  \\\n",
              "0    -114.31     34.19                15.0       5612.0          1283.0   \n",
              "1    -114.47     34.40                19.0       7650.0          1901.0   \n",
              "2    -114.56     33.69                17.0        720.0           174.0   \n",
              "3    -114.57     33.64                14.0       1501.0           337.0   \n",
              "4    -114.57     33.57                20.0       1454.0           326.0   \n",
              "\n",
              "   population  households  median_income  median_house_value  \n",
              "0      1015.0       472.0         1.4936             66900.0  \n",
              "1      1129.0       463.0         1.8200             80100.0  \n",
              "2       333.0       117.0         1.6509             85700.0  \n",
              "3       515.0       226.0         3.1917             73400.0  \n",
              "4       624.0       262.0         1.9250             65500.0  "
            ],
            "text/html": [
              "\n",
              "  <div id=\"df-6474b94d-15e2-466e-b316-c142e291c8bd\">\n",
              "    <div class=\"colab-df-container\">\n",
              "      <div>\n",
              "<style scoped>\n",
              "    .dataframe tbody tr th:only-of-type {\n",
              "        vertical-align: middle;\n",
              "    }\n",
              "\n",
              "    .dataframe tbody tr th {\n",
              "        vertical-align: top;\n",
              "    }\n",
              "\n",
              "    .dataframe thead th {\n",
              "        text-align: right;\n",
              "    }\n",
              "</style>\n",
              "<table border=\"1\" class=\"dataframe\">\n",
              "  <thead>\n",
              "    <tr style=\"text-align: right;\">\n",
              "      <th></th>\n",
              "      <th>longitude</th>\n",
              "      <th>latitude</th>\n",
              "      <th>housing_median_age</th>\n",
              "      <th>total_rooms</th>\n",
              "      <th>total_bedrooms</th>\n",
              "      <th>population</th>\n",
              "      <th>households</th>\n",
              "      <th>median_income</th>\n",
              "      <th>median_house_value</th>\n",
              "    </tr>\n",
              "  </thead>\n",
              "  <tbody>\n",
              "    <tr>\n",
              "      <th>0</th>\n",
              "      <td>-114.31</td>\n",
              "      <td>34.19</td>\n",
              "      <td>15.0</td>\n",
              "      <td>5612.0</td>\n",
              "      <td>1283.0</td>\n",
              "      <td>1015.0</td>\n",
              "      <td>472.0</td>\n",
              "      <td>1.4936</td>\n",
              "      <td>66900.0</td>\n",
              "    </tr>\n",
              "    <tr>\n",
              "      <th>1</th>\n",
              "      <td>-114.47</td>\n",
              "      <td>34.40</td>\n",
              "      <td>19.0</td>\n",
              "      <td>7650.0</td>\n",
              "      <td>1901.0</td>\n",
              "      <td>1129.0</td>\n",
              "      <td>463.0</td>\n",
              "      <td>1.8200</td>\n",
              "      <td>80100.0</td>\n",
              "    </tr>\n",
              "    <tr>\n",
              "      <th>2</th>\n",
              "      <td>-114.56</td>\n",
              "      <td>33.69</td>\n",
              "      <td>17.0</td>\n",
              "      <td>720.0</td>\n",
              "      <td>174.0</td>\n",
              "      <td>333.0</td>\n",
              "      <td>117.0</td>\n",
              "      <td>1.6509</td>\n",
              "      <td>85700.0</td>\n",
              "    </tr>\n",
              "    <tr>\n",
              "      <th>3</th>\n",
              "      <td>-114.57</td>\n",
              "      <td>33.64</td>\n",
              "      <td>14.0</td>\n",
              "      <td>1501.0</td>\n",
              "      <td>337.0</td>\n",
              "      <td>515.0</td>\n",
              "      <td>226.0</td>\n",
              "      <td>3.1917</td>\n",
              "      <td>73400.0</td>\n",
              "    </tr>\n",
              "    <tr>\n",
              "      <th>4</th>\n",
              "      <td>-114.57</td>\n",
              "      <td>33.57</td>\n",
              "      <td>20.0</td>\n",
              "      <td>1454.0</td>\n",
              "      <td>326.0</td>\n",
              "      <td>624.0</td>\n",
              "      <td>262.0</td>\n",
              "      <td>1.9250</td>\n",
              "      <td>65500.0</td>\n",
              "    </tr>\n",
              "  </tbody>\n",
              "</table>\n",
              "</div>\n",
              "      <button class=\"colab-df-convert\" onclick=\"convertToInteractive('df-6474b94d-15e2-466e-b316-c142e291c8bd')\"\n",
              "              title=\"Convert this dataframe to an interactive table.\"\n",
              "              style=\"display:none;\">\n",
              "        \n",
              "  <svg xmlns=\"http://www.w3.org/2000/svg\" height=\"24px\"viewBox=\"0 0 24 24\"\n",
              "       width=\"24px\">\n",
              "    <path d=\"M0 0h24v24H0V0z\" fill=\"none\"/>\n",
              "    <path d=\"M18.56 5.44l.94 2.06.94-2.06 2.06-.94-2.06-.94-.94-2.06-.94 2.06-2.06.94zm-11 1L8.5 8.5l.94-2.06 2.06-.94-2.06-.94L8.5 2.5l-.94 2.06-2.06.94zm10 10l.94 2.06.94-2.06 2.06-.94-2.06-.94-.94-2.06-.94 2.06-2.06.94z\"/><path d=\"M17.41 7.96l-1.37-1.37c-.4-.4-.92-.59-1.43-.59-.52 0-1.04.2-1.43.59L10.3 9.45l-7.72 7.72c-.78.78-.78 2.05 0 2.83L4 21.41c.39.39.9.59 1.41.59.51 0 1.02-.2 1.41-.59l7.78-7.78 2.81-2.81c.8-.78.8-2.07 0-2.86zM5.41 20L4 18.59l7.72-7.72 1.47 1.35L5.41 20z\"/>\n",
              "  </svg>\n",
              "      </button>\n",
              "      \n",
              "  <style>\n",
              "    .colab-df-container {\n",
              "      display:flex;\n",
              "      flex-wrap:wrap;\n",
              "      gap: 12px;\n",
              "    }\n",
              "\n",
              "    .colab-df-convert {\n",
              "      background-color: #E8F0FE;\n",
              "      border: none;\n",
              "      border-radius: 50%;\n",
              "      cursor: pointer;\n",
              "      display: none;\n",
              "      fill: #1967D2;\n",
              "      height: 32px;\n",
              "      padding: 0 0 0 0;\n",
              "      width: 32px;\n",
              "    }\n",
              "\n",
              "    .colab-df-convert:hover {\n",
              "      background-color: #E2EBFA;\n",
              "      box-shadow: 0px 1px 2px rgba(60, 64, 67, 0.3), 0px 1px 3px 1px rgba(60, 64, 67, 0.15);\n",
              "      fill: #174EA6;\n",
              "    }\n",
              "\n",
              "    [theme=dark] .colab-df-convert {\n",
              "      background-color: #3B4455;\n",
              "      fill: #D2E3FC;\n",
              "    }\n",
              "\n",
              "    [theme=dark] .colab-df-convert:hover {\n",
              "      background-color: #434B5C;\n",
              "      box-shadow: 0px 1px 3px 1px rgba(0, 0, 0, 0.15);\n",
              "      filter: drop-shadow(0px 1px 2px rgba(0, 0, 0, 0.3));\n",
              "      fill: #FFFFFF;\n",
              "    }\n",
              "  </style>\n",
              "\n",
              "      <script>\n",
              "        const buttonEl =\n",
              "          document.querySelector('#df-6474b94d-15e2-466e-b316-c142e291c8bd button.colab-df-convert');\n",
              "        buttonEl.style.display =\n",
              "          google.colab.kernel.accessAllowed ? 'block' : 'none';\n",
              "\n",
              "        async function convertToInteractive(key) {\n",
              "          const element = document.querySelector('#df-6474b94d-15e2-466e-b316-c142e291c8bd');\n",
              "          const dataTable =\n",
              "            await google.colab.kernel.invokeFunction('convertToInteractive',\n",
              "                                                     [key], {});\n",
              "          if (!dataTable) return;\n",
              "\n",
              "          const docLinkHtml = 'Like what you see? Visit the ' +\n",
              "            '<a target=\"_blank\" href=https://colab.research.google.com/notebooks/data_table.ipynb>data table notebook</a>'\n",
              "            + ' to learn more about interactive tables.';\n",
              "          element.innerHTML = '';\n",
              "          dataTable['output_type'] = 'display_data';\n",
              "          await google.colab.output.renderOutput(dataTable, element);\n",
              "          const docLink = document.createElement('div');\n",
              "          docLink.innerHTML = docLinkHtml;\n",
              "          element.appendChild(docLink);\n",
              "        }\n",
              "      </script>\n",
              "    </div>\n",
              "  </div>\n",
              "  "
            ]
          },
          "metadata": {},
          "execution_count": 61
        }
      ]
    },
    {
      "cell_type": "markdown",
      "metadata": {
        "id": "QJht_Q1ZIq3X"
      },
      "source": [
        "**Описание данных**\n",
        "\n",
        "California Housing содержит данные о средней стоимость домов в Калифорнии для квартала. Файл с данными содержит следующие столбцы:\n",
        "\n",
        "*   **longitude** - долгота квартала с недвижимостью.\n",
        "*   **latitude** - широта квартала с недвижимостью.\n",
        "*   **housing_median_age** - медиана возраста домов в квартале.\n",
        "*   **total_rooms** - общее колиичество комнат в квартале.\n",
        "*   **total_bedrooms** - общее количество спален в квартале.\n",
        "*   **population** - население квартала.\n",
        "*   **households** - количество \"домохозяйств\" в квартале (групп людей живущих вместе в одном доме. Как правило это семьи).\n",
        "*   **median_income** - медианный доход в квартале.\n",
        "*   **median_house_value** - медианная стоимость дома в квартале.\n",
        "\n"
      ]
    },
    {
      "cell_type": "markdown",
      "metadata": {
        "id": "fbuFe5HhAxgX"
      },
      "source": [
        "Просматриваем данные для тестирования"
      ]
    },
    {
      "cell_type": "code",
      "metadata": {
        "id": "_595qh0iAz5d",
        "outputId": "c817b5c0-24a2-42f6-8320-555b3a616da2",
        "colab": {
          "base_uri": "https://localhost:8080/",
          "height": 270
        }
      },
      "source": [
        "test[:5]"
      ],
      "execution_count": 62,
      "outputs": [
        {
          "output_type": "execute_result",
          "data": {
            "text/plain": [
              "   longitude  latitude  housing_median_age  total_rooms  total_bedrooms  \\\n",
              "0    -122.05     37.37                27.0       3885.0           661.0   \n",
              "1    -118.30     34.26                43.0       1510.0           310.0   \n",
              "2    -117.81     33.78                27.0       3589.0           507.0   \n",
              "3    -118.36     33.82                28.0         67.0            15.0   \n",
              "4    -119.67     36.33                19.0       1241.0           244.0   \n",
              "\n",
              "   population  households  median_income  median_house_value  \n",
              "0      1537.0       606.0         6.6085            344700.0  \n",
              "1       809.0       277.0         3.5990            176500.0  \n",
              "2      1484.0       495.0         5.7934            270500.0  \n",
              "3        49.0        11.0         6.1359            330000.0  \n",
              "4       850.0       237.0         2.9375             81700.0  "
            ],
            "text/html": [
              "\n",
              "  <div id=\"df-0d42f5a1-0532-48d6-ad7b-7a6971f6275f\">\n",
              "    <div class=\"colab-df-container\">\n",
              "      <div>\n",
              "<style scoped>\n",
              "    .dataframe tbody tr th:only-of-type {\n",
              "        vertical-align: middle;\n",
              "    }\n",
              "\n",
              "    .dataframe tbody tr th {\n",
              "        vertical-align: top;\n",
              "    }\n",
              "\n",
              "    .dataframe thead th {\n",
              "        text-align: right;\n",
              "    }\n",
              "</style>\n",
              "<table border=\"1\" class=\"dataframe\">\n",
              "  <thead>\n",
              "    <tr style=\"text-align: right;\">\n",
              "      <th></th>\n",
              "      <th>longitude</th>\n",
              "      <th>latitude</th>\n",
              "      <th>housing_median_age</th>\n",
              "      <th>total_rooms</th>\n",
              "      <th>total_bedrooms</th>\n",
              "      <th>population</th>\n",
              "      <th>households</th>\n",
              "      <th>median_income</th>\n",
              "      <th>median_house_value</th>\n",
              "    </tr>\n",
              "  </thead>\n",
              "  <tbody>\n",
              "    <tr>\n",
              "      <th>0</th>\n",
              "      <td>-122.05</td>\n",
              "      <td>37.37</td>\n",
              "      <td>27.0</td>\n",
              "      <td>3885.0</td>\n",
              "      <td>661.0</td>\n",
              "      <td>1537.0</td>\n",
              "      <td>606.0</td>\n",
              "      <td>6.6085</td>\n",
              "      <td>344700.0</td>\n",
              "    </tr>\n",
              "    <tr>\n",
              "      <th>1</th>\n",
              "      <td>-118.30</td>\n",
              "      <td>34.26</td>\n",
              "      <td>43.0</td>\n",
              "      <td>1510.0</td>\n",
              "      <td>310.0</td>\n",
              "      <td>809.0</td>\n",
              "      <td>277.0</td>\n",
              "      <td>3.5990</td>\n",
              "      <td>176500.0</td>\n",
              "    </tr>\n",
              "    <tr>\n",
              "      <th>2</th>\n",
              "      <td>-117.81</td>\n",
              "      <td>33.78</td>\n",
              "      <td>27.0</td>\n",
              "      <td>3589.0</td>\n",
              "      <td>507.0</td>\n",
              "      <td>1484.0</td>\n",
              "      <td>495.0</td>\n",
              "      <td>5.7934</td>\n",
              "      <td>270500.0</td>\n",
              "    </tr>\n",
              "    <tr>\n",
              "      <th>3</th>\n",
              "      <td>-118.36</td>\n",
              "      <td>33.82</td>\n",
              "      <td>28.0</td>\n",
              "      <td>67.0</td>\n",
              "      <td>15.0</td>\n",
              "      <td>49.0</td>\n",
              "      <td>11.0</td>\n",
              "      <td>6.1359</td>\n",
              "      <td>330000.0</td>\n",
              "    </tr>\n",
              "    <tr>\n",
              "      <th>4</th>\n",
              "      <td>-119.67</td>\n",
              "      <td>36.33</td>\n",
              "      <td>19.0</td>\n",
              "      <td>1241.0</td>\n",
              "      <td>244.0</td>\n",
              "      <td>850.0</td>\n",
              "      <td>237.0</td>\n",
              "      <td>2.9375</td>\n",
              "      <td>81700.0</td>\n",
              "    </tr>\n",
              "  </tbody>\n",
              "</table>\n",
              "</div>\n",
              "      <button class=\"colab-df-convert\" onclick=\"convertToInteractive('df-0d42f5a1-0532-48d6-ad7b-7a6971f6275f')\"\n",
              "              title=\"Convert this dataframe to an interactive table.\"\n",
              "              style=\"display:none;\">\n",
              "        \n",
              "  <svg xmlns=\"http://www.w3.org/2000/svg\" height=\"24px\"viewBox=\"0 0 24 24\"\n",
              "       width=\"24px\">\n",
              "    <path d=\"M0 0h24v24H0V0z\" fill=\"none\"/>\n",
              "    <path d=\"M18.56 5.44l.94 2.06.94-2.06 2.06-.94-2.06-.94-.94-2.06-.94 2.06-2.06.94zm-11 1L8.5 8.5l.94-2.06 2.06-.94-2.06-.94L8.5 2.5l-.94 2.06-2.06.94zm10 10l.94 2.06.94-2.06 2.06-.94-2.06-.94-.94-2.06-.94 2.06-2.06.94z\"/><path d=\"M17.41 7.96l-1.37-1.37c-.4-.4-.92-.59-1.43-.59-.52 0-1.04.2-1.43.59L10.3 9.45l-7.72 7.72c-.78.78-.78 2.05 0 2.83L4 21.41c.39.39.9.59 1.41.59.51 0 1.02-.2 1.41-.59l7.78-7.78 2.81-2.81c.8-.78.8-2.07 0-2.86zM5.41 20L4 18.59l7.72-7.72 1.47 1.35L5.41 20z\"/>\n",
              "  </svg>\n",
              "      </button>\n",
              "      \n",
              "  <style>\n",
              "    .colab-df-container {\n",
              "      display:flex;\n",
              "      flex-wrap:wrap;\n",
              "      gap: 12px;\n",
              "    }\n",
              "\n",
              "    .colab-df-convert {\n",
              "      background-color: #E8F0FE;\n",
              "      border: none;\n",
              "      border-radius: 50%;\n",
              "      cursor: pointer;\n",
              "      display: none;\n",
              "      fill: #1967D2;\n",
              "      height: 32px;\n",
              "      padding: 0 0 0 0;\n",
              "      width: 32px;\n",
              "    }\n",
              "\n",
              "    .colab-df-convert:hover {\n",
              "      background-color: #E2EBFA;\n",
              "      box-shadow: 0px 1px 2px rgba(60, 64, 67, 0.3), 0px 1px 3px 1px rgba(60, 64, 67, 0.15);\n",
              "      fill: #174EA6;\n",
              "    }\n",
              "\n",
              "    [theme=dark] .colab-df-convert {\n",
              "      background-color: #3B4455;\n",
              "      fill: #D2E3FC;\n",
              "    }\n",
              "\n",
              "    [theme=dark] .colab-df-convert:hover {\n",
              "      background-color: #434B5C;\n",
              "      box-shadow: 0px 1px 3px 1px rgba(0, 0, 0, 0.15);\n",
              "      filter: drop-shadow(0px 1px 2px rgba(0, 0, 0, 0.3));\n",
              "      fill: #FFFFFF;\n",
              "    }\n",
              "  </style>\n",
              "\n",
              "      <script>\n",
              "        const buttonEl =\n",
              "          document.querySelector('#df-0d42f5a1-0532-48d6-ad7b-7a6971f6275f button.colab-df-convert');\n",
              "        buttonEl.style.display =\n",
              "          google.colab.kernel.accessAllowed ? 'block' : 'none';\n",
              "\n",
              "        async function convertToInteractive(key) {\n",
              "          const element = document.querySelector('#df-0d42f5a1-0532-48d6-ad7b-7a6971f6275f');\n",
              "          const dataTable =\n",
              "            await google.colab.kernel.invokeFunction('convertToInteractive',\n",
              "                                                     [key], {});\n",
              "          if (!dataTable) return;\n",
              "\n",
              "          const docLinkHtml = 'Like what you see? Visit the ' +\n",
              "            '<a target=\"_blank\" href=https://colab.research.google.com/notebooks/data_table.ipynb>data table notebook</a>'\n",
              "            + ' to learn more about interactive tables.';\n",
              "          element.innerHTML = '';\n",
              "          dataTable['output_type'] = 'display_data';\n",
              "          await google.colab.output.renderOutput(dataTable, element);\n",
              "          const docLink = document.createElement('div');\n",
              "          docLink.innerHTML = docLinkHtml;\n",
              "          element.appendChild(docLink);\n",
              "        }\n",
              "      </script>\n",
              "    </div>\n",
              "  </div>\n",
              "  "
            ]
          },
          "metadata": {},
          "execution_count": 62
        }
      ]
    },
    {
      "cell_type": "markdown",
      "metadata": {
        "id": "cALbOq0GA9h8"
      },
      "source": [
        "## Постановка задачи регрессии\n",
        "\n",
        "Необходимо определить медианную стоимость дома в квартале, зная все остальные признаки.\n",
        "\n",
        "**Целевая переменная**: `median_house_value`\n",
        "\n",
        "**Признаки**: `longitude, latitude, housing_median_age, total_rooms, total_bedrooms, population, households,\tmedian_income`\n",
        "\n",
        "Признаки подаются на вход нейронной сети, на выходе сеть должна выдать значение целевой переменной - `median_house_value`"
      ]
    },
    {
      "cell_type": "code",
      "metadata": {
        "id": "8E3aBKGqCU04"
      },
      "source": [
        "features = ['longitude', 'latitude', 'housing_median_age', 'total_rooms', 'total_bedrooms', 'population', 'households', 'median_income']\n",
        "target = 'median_house_value'"
      ],
      "execution_count": 63,
      "outputs": []
    },
    {
      "cell_type": "markdown",
      "metadata": {
        "id": "gIpp-lNbBwUt"
      },
      "source": [
        "## Подготовка данных для обучения\n",
        "\n",
        "Делим набор данных на признаки и правильные ответы"
      ]
    },
    {
      "cell_type": "code",
      "metadata": {
        "id": "YCf9T98dB0FS"
      },
      "source": [
        "# Выделяем данные для обучения и преобразуем их в массивы numpy\n",
        "x_train = train[features].values\n",
        "x_test = test[features].values"
      ],
      "execution_count": 64,
      "outputs": []
    },
    {
      "cell_type": "code",
      "metadata": {
        "id": "Xpxta56qCq_7",
        "outputId": "6fa585c6-f236-4fd6-a26e-941829534c20",
        "colab": {
          "base_uri": "https://localhost:8080/"
        }
      },
      "source": [
        "x_train[:5]"
      ],
      "execution_count": 65,
      "outputs": [
        {
          "output_type": "execute_result",
          "data": {
            "text/plain": [
              "array([[-1.1431e+02,  3.4190e+01,  1.5000e+01,  5.6120e+03,  1.2830e+03,\n",
              "         1.0150e+03,  4.7200e+02,  1.4936e+00],\n",
              "       [-1.1447e+02,  3.4400e+01,  1.9000e+01,  7.6500e+03,  1.9010e+03,\n",
              "         1.1290e+03,  4.6300e+02,  1.8200e+00],\n",
              "       [-1.1456e+02,  3.3690e+01,  1.7000e+01,  7.2000e+02,  1.7400e+02,\n",
              "         3.3300e+02,  1.1700e+02,  1.6509e+00],\n",
              "       [-1.1457e+02,  3.3640e+01,  1.4000e+01,  1.5010e+03,  3.3700e+02,\n",
              "         5.1500e+02,  2.2600e+02,  3.1917e+00],\n",
              "       [-1.1457e+02,  3.3570e+01,  2.0000e+01,  1.4540e+03,  3.2600e+02,\n",
              "         6.2400e+02,  2.6200e+02,  1.9250e+00]])"
            ]
          },
          "metadata": {},
          "execution_count": 65
        }
      ]
    },
    {
      "cell_type": "code",
      "metadata": {
        "id": "5quZ8B_-CO6M"
      },
      "source": [
        "# Выделяем правильные ответы и преобразуем их в массивы numpy\n",
        "y_train = train[target].values\n",
        "y_test = test[target].values"
      ],
      "execution_count": 66,
      "outputs": []
    },
    {
      "cell_type": "code",
      "metadata": {
        "id": "dKdOKsj0C0AY",
        "outputId": "57b5e170-bdeb-4cb9-f465-a13a999e1713",
        "colab": {
          "base_uri": "https://localhost:8080/"
        }
      },
      "source": [
        "y_train[0:5]"
      ],
      "execution_count": 67,
      "outputs": [
        {
          "output_type": "execute_result",
          "data": {
            "text/plain": [
              "array([66900., 80100., 85700., 73400., 65500.])"
            ]
          },
          "metadata": {},
          "execution_count": 67
        }
      ]
    },
    {
      "cell_type": "markdown",
      "metadata": {
        "id": "H2-y8KVEIhHN"
      },
      "source": [
        "**Стандартизация данных**\n",
        "\n",
        "Вычитаем среднее значение и делим на стандартное отклонение"
      ]
    },
    {
      "cell_type": "code",
      "metadata": {
        "id": "YiOT7gOXIp9d"
      },
      "source": [
        "# Среднее значение\n",
        "mean = x_train.mean(axis=0)\n",
        "# Стандартное отклонение\n",
        "std = x_train.std(axis=0)\n",
        "x_train = (x_train-mean)/std\n",
        "x_test = (x_test-mean)/std"
      ],
      "execution_count": 68,
      "outputs": []
    },
    {
      "cell_type": "markdown",
      "source": [
        "Проверяем размерности получившихся массивов"
      ],
      "metadata": {
        "id": "jmMUmiz4dPHL"
      }
    },
    {
      "cell_type": "code",
      "source": [
        "x_train.shape, x_test.shape, y_train.shape, y_test.shape"
      ],
      "metadata": {
        "colab": {
          "base_uri": "https://localhost:8080/"
        },
        "id": "NzCmkGMZdUDk",
        "outputId": "e0be8933-450c-4351-ef7e-59f4e1e0fd9f"
      },
      "execution_count": 69,
      "outputs": [
        {
          "output_type": "execute_result",
          "data": {
            "text/plain": [
              "((17000, 8), (3000, 8), (17000,), (3000,))"
            ]
          },
          "metadata": {},
          "execution_count": 69
        }
      ]
    },
    {
      "cell_type": "markdown",
      "metadata": {
        "id": "RmlSp15AK_JG"
      },
      "source": [
        "## Создаем нейронную сеть\n",
        "\n",
        "Выходной слой с одним линейным нейроном - для задачи регрессии функция активации - RELU.\n",
        "\n",
        "ReLu = max(0,x)"
      ]
    },
    {
      "cell_type": "code",
      "metadata": {
        "id": "YnCnMQ91LCKV"
      },
      "source": [
        "model = Sequential()\n",
        "model.add(Dense(256, activation='relu', input_shape=(x_train.shape[1],)))\n",
        "model.add(Dense(128, activation='relu'))\n",
        "model.add(Dense(64, activation='relu'))\n",
        "model.add(Dense(1, activation='relu'))"
      ],
      "execution_count": 70,
      "outputs": []
    },
    {
      "cell_type": "code",
      "metadata": {
        "id": "kFAVtJ1Z5jhy",
        "outputId": "3563755c-a785-43fb-de6c-7d2428298a04",
        "colab": {
          "base_uri": "https://localhost:8080/"
        }
      },
      "source": [
        "print(model.summary())"
      ],
      "execution_count": 71,
      "outputs": [
        {
          "output_type": "stream",
          "name": "stdout",
          "text": [
            "Model: \"sequential_2\"\n",
            "_________________________________________________________________\n",
            " Layer (type)                Output Shape              Param #   \n",
            "=================================================================\n",
            " dense_6 (Dense)             (None, 256)               2304      \n",
            "                                                                 \n",
            " dense_7 (Dense)             (None, 128)               32896     \n",
            "                                                                 \n",
            " dense_8 (Dense)             (None, 64)                8256      \n",
            "                                                                 \n",
            " dense_9 (Dense)             (None, 1)                 65        \n",
            "                                                                 \n",
            "=================================================================\n",
            "Total params: 43,521\n",
            "Trainable params: 43,521\n",
            "Non-trainable params: 0\n",
            "_________________________________________________________________\n",
            "None\n"
          ]
        }
      ]
    },
    {
      "cell_type": "markdown",
      "metadata": {
        "id": "F3g-CAK5LPx1"
      },
      "source": [
        "**Компилируем сеть**\n",
        "\n",
        "Функция ошибки - среднеквадратичное отклонение (Mean Square Error). \n",
        "\n",
        "$MSE = \\frac{\\sum_{i=1}^{n}{(y_i-x_i)^2}}{n}$\n",
        "\n",
        "Метрика - среднее абсолютное отклонение (Mean Absolute Error).\n",
        "\n",
        "$MAE = \\frac{\\sum_{i=1}^{n}{|y_i-x_i|}}{n}$\n",
        "\n",
        "Метрика - среднее абсолютных отклонений\n",
        "\n",
        "$MAPE = \\frac{1}{N}\\frac{\\sum_{i=1}^n{|y_i-x_i|}}{y_i}100$"
      ]
    },
    {
      "cell_type": "code",
      "metadata": {
        "id": "WOdqoaTkLNCe"
      },
      "source": [
        "model.compile(optimizer='adam', loss='mape', metrics=['mae'])"
      ],
      "execution_count": 72,
      "outputs": []
    },
    {
      "cell_type": "markdown",
      "metadata": {
        "id": "cuE2Ekt1LeUW"
      },
      "source": [
        "## Обучаем нейронную сеть\n",
        "\n"
      ]
    },
    {
      "cell_type": "code",
      "metadata": {
        "id": "1EcFPWZcLmRl",
        "outputId": "79c5fb21-aac5-42e6-feea-8d5aae959182",
        "colab": {
          "base_uri": "https://localhost:8080/"
        }
      },
      "source": [
        "history = model.fit(x_train, \n",
        "                    y_train, \n",
        "                    epochs=500, \n",
        "                    validation_split=0.1, \n",
        "                    verbose=2)"
      ],
      "execution_count": 73,
      "outputs": [
        {
          "output_type": "stream",
          "name": "stdout",
          "text": [
            "Epoch 1/500\n",
            "479/479 - 2s - loss: 73.1246 - mae: 157655.6250 - val_loss: 60.8296 - val_mae: 157851.7500 - 2s/epoch - 4ms/step\n",
            "Epoch 2/500\n",
            "479/479 - 1s - loss: 38.3750 - mae: 84619.3672 - val_loss: 49.1588 - val_mae: 108909.2344 - 676ms/epoch - 1ms/step\n",
            "Epoch 3/500\n",
            "479/479 - 1s - loss: 26.7013 - mae: 55773.2266 - val_loss: 37.9464 - val_mae: 82621.1406 - 668ms/epoch - 1ms/step\n",
            "Epoch 4/500\n",
            "479/479 - 1s - loss: 24.0538 - mae: 50588.7969 - val_loss: 33.2907 - val_mae: 75568.2812 - 666ms/epoch - 1ms/step\n",
            "Epoch 5/500\n",
            "479/479 - 1s - loss: 23.1602 - mae: 48583.8594 - val_loss: 32.0815 - val_mae: 71042.3438 - 653ms/epoch - 1ms/step\n",
            "Epoch 6/500\n",
            "479/479 - 1s - loss: 22.8013 - mae: 47723.8086 - val_loss: 31.2755 - val_mae: 71286.6016 - 665ms/epoch - 1ms/step\n",
            "Epoch 7/500\n",
            "479/479 - 1s - loss: 22.5611 - mae: 47169.7266 - val_loss: 30.7322 - val_mae: 69045.9062 - 657ms/epoch - 1ms/step\n",
            "Epoch 8/500\n",
            "479/479 - 1s - loss: 22.4310 - mae: 46877.1797 - val_loss: 30.8246 - val_mae: 68042.1562 - 660ms/epoch - 1ms/step\n",
            "Epoch 9/500\n",
            "479/479 - 1s - loss: 22.3020 - mae: 46597.8398 - val_loss: 30.4708 - val_mae: 69547.9609 - 671ms/epoch - 1ms/step\n",
            "Epoch 10/500\n",
            "479/479 - 1s - loss: 22.2157 - mae: 46434.7500 - val_loss: 30.1208 - val_mae: 67315.1562 - 679ms/epoch - 1ms/step\n",
            "Epoch 11/500\n",
            "479/479 - 1s - loss: 22.1545 - mae: 46313.9727 - val_loss: 30.2551 - val_mae: 67363.0000 - 709ms/epoch - 1ms/step\n",
            "Epoch 12/500\n",
            "479/479 - 1s - loss: 22.0753 - mae: 46124.3867 - val_loss: 30.1613 - val_mae: 69814.7344 - 658ms/epoch - 1ms/step\n",
            "Epoch 13/500\n",
            "479/479 - 1s - loss: 21.9971 - mae: 45966.9023 - val_loss: 29.9450 - val_mae: 67775.9219 - 650ms/epoch - 1ms/step\n",
            "Epoch 14/500\n",
            "479/479 - 1s - loss: 21.9711 - mae: 45927.5625 - val_loss: 30.4314 - val_mae: 67853.6172 - 676ms/epoch - 1ms/step\n",
            "Epoch 15/500\n",
            "479/479 - 1s - loss: 21.9209 - mae: 45918.7188 - val_loss: 29.8234 - val_mae: 66863.2344 - 795ms/epoch - 2ms/step\n",
            "Epoch 16/500\n",
            "479/479 - 1s - loss: 21.8763 - mae: 45725.9414 - val_loss: 29.7988 - val_mae: 67740.3125 - 895ms/epoch - 2ms/step\n",
            "Epoch 17/500\n",
            "479/479 - 1s - loss: 21.8396 - mae: 45752.9961 - val_loss: 29.7986 - val_mae: 65696.0000 - 1s/epoch - 2ms/step\n",
            "Epoch 18/500\n",
            "479/479 - 1s - loss: 21.8102 - mae: 45650.3359 - val_loss: 30.1681 - val_mae: 67049.6016 - 914ms/epoch - 2ms/step\n",
            "Epoch 19/500\n",
            "479/479 - 1s - loss: 21.7562 - mae: 45497.4062 - val_loss: 29.2766 - val_mae: 65969.3281 - 765ms/epoch - 2ms/step\n",
            "Epoch 20/500\n",
            "479/479 - 1s - loss: 21.7267 - mae: 45423.6133 - val_loss: 29.6865 - val_mae: 66812.9141 - 770ms/epoch - 2ms/step\n",
            "Epoch 21/500\n",
            "479/479 - 1s - loss: 21.6723 - mae: 45368.3516 - val_loss: 29.9046 - val_mae: 65000.8594 - 857ms/epoch - 2ms/step\n",
            "Epoch 22/500\n",
            "479/479 - 1s - loss: 21.6362 - mae: 45260.2188 - val_loss: 29.4633 - val_mae: 68188.7969 - 783ms/epoch - 2ms/step\n",
            "Epoch 23/500\n",
            "479/479 - 1s - loss: 21.5988 - mae: 45259.7930 - val_loss: 29.6643 - val_mae: 66622.3281 - 658ms/epoch - 1ms/step\n",
            "Epoch 24/500\n",
            "479/479 - 1s - loss: 21.5871 - mae: 45203.9531 - val_loss: 29.2393 - val_mae: 65617.2500 - 667ms/epoch - 1ms/step\n",
            "Epoch 25/500\n",
            "479/479 - 1s - loss: 21.5615 - mae: 45059.4688 - val_loss: 29.5085 - val_mae: 66198.5703 - 701ms/epoch - 1ms/step\n",
            "Epoch 26/500\n",
            "479/479 - 1s - loss: 21.5385 - mae: 45014.8867 - val_loss: 29.3047 - val_mae: 66144.3828 - 763ms/epoch - 2ms/step\n",
            "Epoch 27/500\n",
            "479/479 - 1s - loss: 21.5099 - mae: 44998.4492 - val_loss: 29.6073 - val_mae: 64604.1836 - 728ms/epoch - 2ms/step\n",
            "Epoch 28/500\n",
            "479/479 - 1s - loss: 21.4662 - mae: 44895.1211 - val_loss: 29.2185 - val_mae: 67072.8906 - 743ms/epoch - 2ms/step\n",
            "Epoch 29/500\n",
            "479/479 - 1s - loss: 21.4511 - mae: 44880.7461 - val_loss: 29.1506 - val_mae: 65653.3516 - 703ms/epoch - 1ms/step\n",
            "Epoch 30/500\n",
            "479/479 - 1s - loss: 21.4010 - mae: 44851.7656 - val_loss: 28.7816 - val_mae: 65734.1562 - 847ms/epoch - 2ms/step\n",
            "Epoch 31/500\n",
            "479/479 - 1s - loss: 21.3657 - mae: 44722.0742 - val_loss: 29.1905 - val_mae: 66373.7656 - 963ms/epoch - 2ms/step\n",
            "Epoch 32/500\n",
            "479/479 - 1s - loss: 21.3222 - mae: 44687.1562 - val_loss: 29.4715 - val_mae: 65299.1172 - 1s/epoch - 2ms/step\n",
            "Epoch 33/500\n",
            "479/479 - 1s - loss: 21.3123 - mae: 44594.8672 - val_loss: 29.0184 - val_mae: 64014.3359 - 749ms/epoch - 2ms/step\n",
            "Epoch 34/500\n",
            "479/479 - 1s - loss: 21.2729 - mae: 44499.2539 - val_loss: 29.0365 - val_mae: 64562.9102 - 774ms/epoch - 2ms/step\n",
            "Epoch 35/500\n",
            "479/479 - 1s - loss: 21.2316 - mae: 44468.1133 - val_loss: 29.8946 - val_mae: 64953.6758 - 746ms/epoch - 2ms/step\n",
            "Epoch 36/500\n",
            "479/479 - 1s - loss: 21.2317 - mae: 44476.3594 - val_loss: 30.0229 - val_mae: 65479.6328 - 933ms/epoch - 2ms/step\n",
            "Epoch 37/500\n",
            "479/479 - 1s - loss: 21.1858 - mae: 44273.8945 - val_loss: 29.4956 - val_mae: 67005.9922 - 817ms/epoch - 2ms/step\n",
            "Epoch 38/500\n",
            "479/479 - 1s - loss: 21.1445 - mae: 44270.1328 - val_loss: 29.4772 - val_mae: 65488.8281 - 667ms/epoch - 1ms/step\n",
            "Epoch 39/500\n",
            "479/479 - 1s - loss: 21.1166 - mae: 44286.4570 - val_loss: 29.2824 - val_mae: 64881.0195 - 659ms/epoch - 1ms/step\n",
            "Epoch 40/500\n",
            "479/479 - 1s - loss: 21.0582 - mae: 44085.7266 - val_loss: 29.6190 - val_mae: 65166.7070 - 791ms/epoch - 2ms/step\n",
            "Epoch 41/500\n",
            "479/479 - 1s - loss: 21.0223 - mae: 44104.8750 - val_loss: 29.7153 - val_mae: 64120.0234 - 810ms/epoch - 2ms/step\n",
            "Epoch 42/500\n",
            "479/479 - 1s - loss: 20.9840 - mae: 43905.5625 - val_loss: 29.4343 - val_mae: 66157.3828 - 676ms/epoch - 1ms/step\n",
            "Epoch 43/500\n",
            "479/479 - 1s - loss: 20.9441 - mae: 43933.2344 - val_loss: 29.4818 - val_mae: 65129.8633 - 686ms/epoch - 1ms/step\n",
            "Epoch 44/500\n",
            "479/479 - 1s - loss: 20.8823 - mae: 43720.5195 - val_loss: 29.7559 - val_mae: 64623.7461 - 712ms/epoch - 1ms/step\n",
            "Epoch 45/500\n",
            "479/479 - 1s - loss: 20.8582 - mae: 43830.0859 - val_loss: 29.2760 - val_mae: 63840.3047 - 1s/epoch - 2ms/step\n",
            "Epoch 46/500\n",
            "479/479 - 1s - loss: 20.8019 - mae: 43627.7070 - val_loss: 30.1775 - val_mae: 64902.9805 - 978ms/epoch - 2ms/step\n",
            "Epoch 47/500\n",
            "479/479 - 1s - loss: 20.7539 - mae: 43552.6016 - val_loss: 30.0886 - val_mae: 64294.3672 - 767ms/epoch - 2ms/step\n",
            "Epoch 48/500\n",
            "479/479 - 1s - loss: 20.6894 - mae: 43402.8789 - val_loss: 30.0034 - val_mae: 62797.1055 - 861ms/epoch - 2ms/step\n",
            "Epoch 49/500\n",
            "479/479 - 1s - loss: 20.6623 - mae: 43318.4805 - val_loss: 29.7801 - val_mae: 66047.1406 - 665ms/epoch - 1ms/step\n",
            "Epoch 50/500\n",
            "479/479 - 1s - loss: 20.6159 - mae: 43342.9805 - val_loss: 30.2042 - val_mae: 65039.6836 - 851ms/epoch - 2ms/step\n",
            "Epoch 51/500\n",
            "479/479 - 1s - loss: 20.5494 - mae: 43187.3047 - val_loss: 30.3257 - val_mae: 64548.7109 - 872ms/epoch - 2ms/step\n",
            "Epoch 52/500\n",
            "479/479 - 1s - loss: 20.5118 - mae: 43078.3984 - val_loss: 30.6745 - val_mae: 65321.7656 - 681ms/epoch - 1ms/step\n",
            "Epoch 53/500\n",
            "479/479 - 1s - loss: 20.4662 - mae: 42985.0859 - val_loss: 30.1731 - val_mae: 65036.5039 - 780ms/epoch - 2ms/step\n",
            "Epoch 54/500\n",
            "479/479 - 1s - loss: 20.4170 - mae: 42883.1719 - val_loss: 30.4549 - val_mae: 64404.9609 - 994ms/epoch - 2ms/step\n",
            "Epoch 55/500\n",
            "479/479 - 1s - loss: 20.3717 - mae: 42835.3242 - val_loss: 30.6326 - val_mae: 63185.1211 - 768ms/epoch - 2ms/step\n",
            "Epoch 56/500\n",
            "479/479 - 1s - loss: 20.3258 - mae: 42665.9648 - val_loss: 30.1925 - val_mae: 65962.2422 - 793ms/epoch - 2ms/step\n",
            "Epoch 57/500\n",
            "479/479 - 1s - loss: 20.2875 - mae: 42647.5000 - val_loss: 30.2712 - val_mae: 64078.9141 - 791ms/epoch - 2ms/step\n",
            "Epoch 58/500\n",
            "479/479 - 1s - loss: 20.2405 - mae: 42514.2656 - val_loss: 30.6612 - val_mae: 63563.2148 - 794ms/epoch - 2ms/step\n",
            "Epoch 59/500\n",
            "479/479 - 1s - loss: 20.2035 - mae: 42435.7891 - val_loss: 30.0620 - val_mae: 64093.5820 - 1s/epoch - 2ms/step\n",
            "Epoch 60/500\n",
            "479/479 - 1s - loss: 20.1706 - mae: 42358.6094 - val_loss: 30.3408 - val_mae: 62928.0742 - 1s/epoch - 3ms/step\n",
            "Epoch 61/500\n",
            "479/479 - 1s - loss: 20.1310 - mae: 42289.0508 - val_loss: 30.2077 - val_mae: 63984.3750 - 682ms/epoch - 1ms/step\n",
            "Epoch 62/500\n",
            "479/479 - 1s - loss: 20.1154 - mae: 42189.0039 - val_loss: 29.9067 - val_mae: 67203.3516 - 661ms/epoch - 1ms/step\n",
            "Epoch 63/500\n",
            "479/479 - 1s - loss: 20.0795 - mae: 42178.2344 - val_loss: 30.0122 - val_mae: 62851.7305 - 665ms/epoch - 1ms/step\n",
            "Epoch 64/500\n",
            "479/479 - 1s - loss: 20.0392 - mae: 42113.0078 - val_loss: 29.7491 - val_mae: 65630.6875 - 678ms/epoch - 1ms/step\n",
            "Epoch 65/500\n",
            "479/479 - 1s - loss: 20.0172 - mae: 42015.0312 - val_loss: 30.8728 - val_mae: 64410.2539 - 685ms/epoch - 1ms/step\n",
            "Epoch 66/500\n",
            "479/479 - 1s - loss: 19.9504 - mae: 41882.7891 - val_loss: 31.2308 - val_mae: 62655.5430 - 653ms/epoch - 1ms/step\n",
            "Epoch 67/500\n",
            "479/479 - 1s - loss: 19.9541 - mae: 41885.4180 - val_loss: 31.0510 - val_mae: 64127.1094 - 670ms/epoch - 1ms/step\n",
            "Epoch 68/500\n",
            "479/479 - 1s - loss: 19.9250 - mae: 41846.4453 - val_loss: 30.1088 - val_mae: 63743.8125 - 695ms/epoch - 1ms/step\n",
            "Epoch 69/500\n",
            "479/479 - 1s - loss: 19.8979 - mae: 41788.5508 - val_loss: 29.7733 - val_mae: 63872.6680 - 655ms/epoch - 1ms/step\n",
            "Epoch 70/500\n",
            "479/479 - 1s - loss: 19.8497 - mae: 41674.1875 - val_loss: 29.8638 - val_mae: 63584.6602 - 672ms/epoch - 1ms/step\n",
            "Epoch 71/500\n",
            "479/479 - 1s - loss: 19.8173 - mae: 41554.2852 - val_loss: 29.9895 - val_mae: 63665.9922 - 688ms/epoch - 1ms/step\n",
            "Epoch 72/500\n",
            "479/479 - 1s - loss: 19.7837 - mae: 41643.8633 - val_loss: 29.4806 - val_mae: 63127.2383 - 649ms/epoch - 1ms/step\n",
            "Epoch 73/500\n",
            "479/479 - 1s - loss: 19.7753 - mae: 41516.2812 - val_loss: 29.8976 - val_mae: 64046.0312 - 675ms/epoch - 1ms/step\n",
            "Epoch 74/500\n",
            "479/479 - 1s - loss: 19.7169 - mae: 41373.9492 - val_loss: 30.0664 - val_mae: 65640.9844 - 668ms/epoch - 1ms/step\n",
            "Epoch 75/500\n",
            "479/479 - 1s - loss: 19.7084 - mae: 41384.0273 - val_loss: 30.3273 - val_mae: 66554.8828 - 766ms/epoch - 2ms/step\n",
            "Epoch 76/500\n",
            "479/479 - 1s - loss: 19.6503 - mae: 41262.7422 - val_loss: 30.1644 - val_mae: 62573.6406 - 896ms/epoch - 2ms/step\n",
            "Epoch 77/500\n",
            "479/479 - 1s - loss: 19.6270 - mae: 41217.1641 - val_loss: 30.7004 - val_mae: 64763.9219 - 811ms/epoch - 2ms/step\n",
            "Epoch 78/500\n",
            "479/479 - 1s - loss: 19.5912 - mae: 41181.2031 - val_loss: 30.0502 - val_mae: 63286.9336 - 667ms/epoch - 1ms/step\n",
            "Epoch 79/500\n",
            "479/479 - 1s - loss: 19.5500 - mae: 41058.6680 - val_loss: 30.9914 - val_mae: 63765.8867 - 872ms/epoch - 2ms/step\n",
            "Epoch 80/500\n",
            "479/479 - 1s - loss: 19.4726 - mae: 40881.7227 - val_loss: 30.2939 - val_mae: 63171.7500 - 671ms/epoch - 1ms/step\n",
            "Epoch 81/500\n",
            "479/479 - 1s - loss: 19.4531 - mae: 40904.7539 - val_loss: 30.1996 - val_mae: 63083.3789 - 677ms/epoch - 1ms/step\n",
            "Epoch 82/500\n",
            "479/479 - 1s - loss: 19.3961 - mae: 40698.5117 - val_loss: 29.6127 - val_mae: 61589.8438 - 841ms/epoch - 2ms/step\n",
            "Epoch 83/500\n",
            "479/479 - 1s - loss: 19.3754 - mae: 40692.8438 - val_loss: 29.6633 - val_mae: 63154.3828 - 759ms/epoch - 2ms/step\n",
            "Epoch 84/500\n",
            "479/479 - 1s - loss: 19.3027 - mae: 40559.0352 - val_loss: 29.9500 - val_mae: 62883.4023 - 893ms/epoch - 2ms/step\n",
            "Epoch 85/500\n",
            "479/479 - 1s - loss: 19.2843 - mae: 40570.3438 - val_loss: 30.0784 - val_mae: 63172.0703 - 671ms/epoch - 1ms/step\n",
            "Epoch 86/500\n",
            "479/479 - 1s - loss: 19.2599 - mae: 40464.8750 - val_loss: 29.6153 - val_mae: 61839.6133 - 726ms/epoch - 2ms/step\n",
            "Epoch 87/500\n",
            "479/479 - 1s - loss: 19.2070 - mae: 40330.3594 - val_loss: 29.7384 - val_mae: 61894.2227 - 709ms/epoch - 1ms/step\n",
            "Epoch 88/500\n",
            "479/479 - 1s - loss: 19.1650 - mae: 40258.7500 - val_loss: 29.5575 - val_mae: 63718.2031 - 821ms/epoch - 2ms/step\n",
            "Epoch 89/500\n",
            "479/479 - 1s - loss: 19.1321 - mae: 40277.5820 - val_loss: 29.5498 - val_mae: 63159.8438 - 647ms/epoch - 1ms/step\n",
            "Epoch 90/500\n",
            "479/479 - 1s - loss: 19.0991 - mae: 40190.4805 - val_loss: 29.8061 - val_mae: 61937.3125 - 706ms/epoch - 1ms/step\n",
            "Epoch 91/500\n",
            "479/479 - 1s - loss: 19.0871 - mae: 40161.5781 - val_loss: 29.2427 - val_mae: 60550.9102 - 906ms/epoch - 2ms/step\n",
            "Epoch 92/500\n",
            "479/479 - 1s - loss: 19.0361 - mae: 40039.7148 - val_loss: 30.0069 - val_mae: 60992.9961 - 887ms/epoch - 2ms/step\n",
            "Epoch 93/500\n",
            "479/479 - 1s - loss: 19.0286 - mae: 39948.5430 - val_loss: 29.0071 - val_mae: 61920.0547 - 638ms/epoch - 1ms/step\n",
            "Epoch 94/500\n",
            "479/479 - 1s - loss: 18.9747 - mae: 39859.0625 - val_loss: 30.3373 - val_mae: 62444.4375 - 859ms/epoch - 2ms/step\n",
            "Epoch 95/500\n",
            "479/479 - 1s - loss: 18.9235 - mae: 39770.5547 - val_loss: 29.0788 - val_mae: 61411.0391 - 767ms/epoch - 2ms/step\n",
            "Epoch 96/500\n",
            "479/479 - 1s - loss: 18.9010 - mae: 39755.5352 - val_loss: 29.2125 - val_mae: 62609.0625 - 748ms/epoch - 2ms/step\n",
            "Epoch 97/500\n",
            "479/479 - 1s - loss: 18.8724 - mae: 39693.5742 - val_loss: 28.3874 - val_mae: 62455.5820 - 676ms/epoch - 1ms/step\n",
            "Epoch 98/500\n",
            "479/479 - 1s - loss: 18.8088 - mae: 39607.7734 - val_loss: 28.1841 - val_mae: 63763.5195 - 758ms/epoch - 2ms/step\n",
            "Epoch 99/500\n",
            "479/479 - 1s - loss: 18.8091 - mae: 39586.3672 - val_loss: 29.5555 - val_mae: 60849.7188 - 707ms/epoch - 1ms/step\n",
            "Epoch 100/500\n",
            "479/479 - 1s - loss: 18.7902 - mae: 39482.6680 - val_loss: 28.8020 - val_mae: 60676.0391 - 864ms/epoch - 2ms/step\n",
            "Epoch 101/500\n",
            "479/479 - 1s - loss: 18.7456 - mae: 39436.2188 - val_loss: 29.7632 - val_mae: 59801.7148 - 715ms/epoch - 1ms/step\n",
            "Epoch 102/500\n",
            "479/479 - 1s - loss: 18.7371 - mae: 39389.2617 - val_loss: 28.1919 - val_mae: 61455.2227 - 866ms/epoch - 2ms/step\n",
            "Epoch 103/500\n",
            "479/479 - 1s - loss: 18.6860 - mae: 39327.9180 - val_loss: 28.3756 - val_mae: 62827.7383 - 922ms/epoch - 2ms/step\n",
            "Epoch 104/500\n",
            "479/479 - 1s - loss: 18.6364 - mae: 39272.9375 - val_loss: 28.1343 - val_mae: 62359.8242 - 643ms/epoch - 1ms/step\n",
            "Epoch 105/500\n",
            "479/479 - 1s - loss: 18.6433 - mae: 39218.1719 - val_loss: 30.0392 - val_mae: 60258.9180 - 642ms/epoch - 1ms/step\n",
            "Epoch 106/500\n",
            "479/479 - 1s - loss: 18.5870 - mae: 39068.5234 - val_loss: 29.0836 - val_mae: 61152.8555 - 877ms/epoch - 2ms/step\n",
            "Epoch 107/500\n",
            "479/479 - 1s - loss: 18.5497 - mae: 39025.4609 - val_loss: 28.8346 - val_mae: 59189.3633 - 1s/epoch - 2ms/step\n",
            "Epoch 108/500\n",
            "479/479 - 1s - loss: 18.5291 - mae: 39003.8047 - val_loss: 29.0521 - val_mae: 60540.3984 - 661ms/epoch - 1ms/step\n",
            "Epoch 109/500\n",
            "479/479 - 1s - loss: 18.4943 - mae: 38855.9375 - val_loss: 28.2013 - val_mae: 60933.3945 - 650ms/epoch - 1ms/step\n",
            "Epoch 110/500\n",
            "479/479 - 1s - loss: 18.4763 - mae: 38929.1992 - val_loss: 28.5945 - val_mae: 61671.6758 - 843ms/epoch - 2ms/step\n",
            "Epoch 111/500\n",
            "479/479 - 1s - loss: 18.4572 - mae: 38911.3867 - val_loss: 28.6987 - val_mae: 60354.8359 - 837ms/epoch - 2ms/step\n",
            "Epoch 112/500\n",
            "479/479 - 1s - loss: 18.4433 - mae: 38802.7578 - val_loss: 29.2568 - val_mae: 60028.5234 - 787ms/epoch - 2ms/step\n",
            "Epoch 113/500\n",
            "479/479 - 1s - loss: 18.3866 - mae: 38712.2148 - val_loss: 28.3283 - val_mae: 60411.2500 - 843ms/epoch - 2ms/step\n",
            "Epoch 114/500\n",
            "479/479 - 1s - loss: 18.3535 - mae: 38616.7812 - val_loss: 28.3051 - val_mae: 59840.7656 - 657ms/epoch - 1ms/step\n",
            "Epoch 115/500\n",
            "479/479 - 1s - loss: 18.3250 - mae: 38567.5078 - val_loss: 27.5087 - val_mae: 61173.1289 - 866ms/epoch - 2ms/step\n",
            "Epoch 116/500\n",
            "479/479 - 1s - loss: 18.3365 - mae: 38577.1406 - val_loss: 29.5534 - val_mae: 61815.9531 - 688ms/epoch - 1ms/step\n",
            "Epoch 117/500\n",
            "479/479 - 1s - loss: 18.2966 - mae: 38573.6719 - val_loss: 30.6655 - val_mae: 59549.1992 - 672ms/epoch - 1ms/step\n",
            "Epoch 118/500\n",
            "479/479 - 1s - loss: 18.2571 - mae: 38419.8555 - val_loss: 29.2908 - val_mae: 59923.2344 - 677ms/epoch - 1ms/step\n",
            "Epoch 119/500\n",
            "479/479 - 1s - loss: 18.2405 - mae: 38392.3438 - val_loss: 29.2457 - val_mae: 58919.5312 - 663ms/epoch - 1ms/step\n",
            "Epoch 120/500\n",
            "479/479 - 1s - loss: 18.2304 - mae: 38367.6211 - val_loss: 28.9456 - val_mae: 59215.6133 - 671ms/epoch - 1ms/step\n",
            "Epoch 121/500\n",
            "479/479 - 1s - loss: 18.1655 - mae: 38179.5352 - val_loss: 29.0166 - val_mae: 59539.9531 - 904ms/epoch - 2ms/step\n",
            "Epoch 122/500\n",
            "479/479 - 1s - loss: 18.1580 - mae: 38219.0000 - val_loss: 28.3781 - val_mae: 59739.3984 - 1s/epoch - 2ms/step\n",
            "Epoch 123/500\n",
            "479/479 - 1s - loss: 18.0960 - mae: 38157.2188 - val_loss: 29.1500 - val_mae: 59379.7891 - 747ms/epoch - 2ms/step\n",
            "Epoch 124/500\n",
            "479/479 - 1s - loss: 18.0889 - mae: 38076.7539 - val_loss: 28.7186 - val_mae: 58658.3008 - 672ms/epoch - 1ms/step\n",
            "Epoch 125/500\n",
            "479/479 - 1s - loss: 18.0527 - mae: 38043.7578 - val_loss: 28.5387 - val_mae: 58957.7500 - 887ms/epoch - 2ms/step\n",
            "Epoch 126/500\n",
            "479/479 - 1s - loss: 18.0394 - mae: 37939.9414 - val_loss: 28.1466 - val_mae: 59211.7500 - 659ms/epoch - 1ms/step\n",
            "Epoch 127/500\n",
            "479/479 - 1s - loss: 17.9992 - mae: 37900.2734 - val_loss: 29.6197 - val_mae: 61069.2227 - 680ms/epoch - 1ms/step\n",
            "Epoch 128/500\n",
            "479/479 - 1s - loss: 17.9902 - mae: 37944.8750 - val_loss: 29.3885 - val_mae: 58972.8984 - 656ms/epoch - 1ms/step\n",
            "Epoch 129/500\n",
            "479/479 - 1s - loss: 17.9551 - mae: 37826.4141 - val_loss: 28.2355 - val_mae: 59254.8711 - 658ms/epoch - 1ms/step\n",
            "Epoch 130/500\n",
            "479/479 - 1s - loss: 17.9288 - mae: 37793.1094 - val_loss: 28.1312 - val_mae: 59042.6211 - 641ms/epoch - 1ms/step\n",
            "Epoch 131/500\n",
            "479/479 - 1s - loss: 17.9165 - mae: 37736.9805 - val_loss: 28.2350 - val_mae: 59540.5508 - 677ms/epoch - 1ms/step\n",
            "Epoch 132/500\n",
            "479/479 - 1s - loss: 17.8840 - mae: 37681.9258 - val_loss: 27.7049 - val_mae: 59757.4492 - 647ms/epoch - 1ms/step\n",
            "Epoch 133/500\n",
            "479/479 - 1s - loss: 17.8603 - mae: 37569.6484 - val_loss: 28.0401 - val_mae: 59071.4336 - 689ms/epoch - 1ms/step\n",
            "Epoch 134/500\n",
            "479/479 - 1s - loss: 17.8218 - mae: 37544.3594 - val_loss: 27.7050 - val_mae: 58631.7188 - 660ms/epoch - 1ms/step\n",
            "Epoch 135/500\n",
            "479/479 - 1s - loss: 17.7850 - mae: 37461.5391 - val_loss: 27.3968 - val_mae: 60020.5312 - 667ms/epoch - 1ms/step\n",
            "Epoch 136/500\n",
            "479/479 - 1s - loss: 17.8017 - mae: 37546.0195 - val_loss: 28.5811 - val_mae: 57774.2969 - 665ms/epoch - 1ms/step\n",
            "Epoch 137/500\n",
            "479/479 - 1s - loss: 17.7503 - mae: 37334.0078 - val_loss: 27.8493 - val_mae: 60017.5898 - 801ms/epoch - 2ms/step\n",
            "Epoch 138/500\n",
            "479/479 - 1s - loss: 17.7249 - mae: 37337.7539 - val_loss: 28.2279 - val_mae: 59362.2773 - 906ms/epoch - 2ms/step\n",
            "Epoch 139/500\n",
            "479/479 - 1s - loss: 17.7092 - mae: 37341.9062 - val_loss: 28.8634 - val_mae: 57377.8203 - 816ms/epoch - 2ms/step\n",
            "Epoch 140/500\n",
            "479/479 - 1s - loss: 17.7015 - mae: 37267.0000 - val_loss: 28.0890 - val_mae: 57511.3242 - 673ms/epoch - 1ms/step\n",
            "Epoch 141/500\n",
            "479/479 - 1s - loss: 17.7112 - mae: 37247.7695 - val_loss: 29.1041 - val_mae: 58394.9844 - 670ms/epoch - 1ms/step\n",
            "Epoch 142/500\n",
            "479/479 - 1s - loss: 17.6825 - mae: 37242.0586 - val_loss: 28.7319 - val_mae: 58196.5078 - 661ms/epoch - 1ms/step\n",
            "Epoch 143/500\n",
            "479/479 - 1s - loss: 17.6507 - mae: 37172.9805 - val_loss: 28.5742 - val_mae: 58101.2188 - 1s/epoch - 2ms/step\n",
            "Epoch 144/500\n",
            "479/479 - 1s - loss: 17.6212 - mae: 37102.7344 - val_loss: 28.9089 - val_mae: 56984.7656 - 1s/epoch - 2ms/step\n",
            "Epoch 145/500\n",
            "479/479 - 1s - loss: 17.5938 - mae: 37074.0234 - val_loss: 28.0507 - val_mae: 57520.0625 - 661ms/epoch - 1ms/step\n",
            "Epoch 146/500\n",
            "479/479 - 1s - loss: 17.5422 - mae: 36993.7852 - val_loss: 28.3524 - val_mae: 57670.4453 - 683ms/epoch - 1ms/step\n",
            "Epoch 147/500\n",
            "479/479 - 1s - loss: 17.5696 - mae: 37041.0195 - val_loss: 28.3119 - val_mae: 57924.5117 - 649ms/epoch - 1ms/step\n",
            "Epoch 148/500\n",
            "479/479 - 1s - loss: 17.5572 - mae: 36922.5781 - val_loss: 27.7055 - val_mae: 58785.4883 - 763ms/epoch - 2ms/step\n",
            "Epoch 149/500\n",
            "479/479 - 1s - loss: 17.5064 - mae: 36954.7422 - val_loss: 28.2732 - val_mae: 57516.1211 - 810ms/epoch - 2ms/step\n",
            "Epoch 150/500\n",
            "479/479 - 1s - loss: 17.5088 - mae: 36922.2266 - val_loss: 27.6248 - val_mae: 56672.6953 - 943ms/epoch - 2ms/step\n",
            "Epoch 151/500\n",
            "479/479 - 1s - loss: 17.4899 - mae: 36886.4258 - val_loss: 27.5842 - val_mae: 58268.2148 - 862ms/epoch - 2ms/step\n",
            "Epoch 152/500\n",
            "479/479 - 1s - loss: 17.4476 - mae: 36740.0898 - val_loss: 27.8570 - val_mae: 58373.7695 - 881ms/epoch - 2ms/step\n",
            "Epoch 153/500\n",
            "479/479 - 1s - loss: 17.4837 - mae: 36822.3203 - val_loss: 27.6824 - val_mae: 59456.0273 - 922ms/epoch - 2ms/step\n",
            "Epoch 154/500\n",
            "479/479 - 1s - loss: 17.4728 - mae: 36842.7344 - val_loss: 26.6497 - val_mae: 58750.8438 - 1s/epoch - 2ms/step\n",
            "Epoch 155/500\n",
            "479/479 - 1s - loss: 17.4188 - mae: 36746.8984 - val_loss: 27.0165 - val_mae: 58956.5430 - 664ms/epoch - 1ms/step\n",
            "Epoch 156/500\n",
            "479/479 - 1s - loss: 17.3958 - mae: 36723.9609 - val_loss: 28.4767 - val_mae: 58185.3789 - 672ms/epoch - 1ms/step\n",
            "Epoch 157/500\n",
            "479/479 - 1s - loss: 17.3815 - mae: 36665.2266 - val_loss: 28.1740 - val_mae: 57756.2695 - 875ms/epoch - 2ms/step\n",
            "Epoch 158/500\n",
            "479/479 - 1s - loss: 17.3431 - mae: 36567.4023 - val_loss: 28.0999 - val_mae: 56861.8320 - 707ms/epoch - 1ms/step\n",
            "Epoch 159/500\n",
            "479/479 - 1s - loss: 17.3198 - mae: 36516.0000 - val_loss: 27.4626 - val_mae: 59144.2031 - 961ms/epoch - 2ms/step\n",
            "Epoch 160/500\n",
            "479/479 - 1s - loss: 17.3305 - mae: 36617.8008 - val_loss: 28.2282 - val_mae: 58380.3164 - 668ms/epoch - 1ms/step\n",
            "Epoch 161/500\n",
            "479/479 - 1s - loss: 17.3893 - mae: 36739.8242 - val_loss: 27.9215 - val_mae: 57062.3242 - 671ms/epoch - 1ms/step\n",
            "Epoch 162/500\n",
            "479/479 - 1s - loss: 17.2815 - mae: 36470.3398 - val_loss: 28.8753 - val_mae: 56275.2812 - 668ms/epoch - 1ms/step\n",
            "Epoch 163/500\n",
            "479/479 - 1s - loss: 17.2908 - mae: 36443.7578 - val_loss: 27.3491 - val_mae: 57714.5820 - 679ms/epoch - 1ms/step\n",
            "Epoch 164/500\n",
            "479/479 - 1s - loss: 17.2748 - mae: 36439.6094 - val_loss: 28.7853 - val_mae: 56815.8945 - 820ms/epoch - 2ms/step\n",
            "Epoch 165/500\n",
            "479/479 - 1s - loss: 17.2472 - mae: 36455.7891 - val_loss: 27.3815 - val_mae: 55630.7109 - 793ms/epoch - 2ms/step\n",
            "Epoch 166/500\n",
            "479/479 - 1s - loss: 17.2517 - mae: 36363.9766 - val_loss: 27.9274 - val_mae: 55605.1016 - 895ms/epoch - 2ms/step\n",
            "Epoch 167/500\n",
            "479/479 - 1s - loss: 17.2397 - mae: 36373.3672 - val_loss: 27.5816 - val_mae: 58885.3086 - 1s/epoch - 3ms/step\n",
            "Epoch 168/500\n",
            "479/479 - 1s - loss: 17.1999 - mae: 36295.4961 - val_loss: 27.1742 - val_mae: 58281.6094 - 866ms/epoch - 2ms/step\n",
            "Epoch 169/500\n",
            "479/479 - 1s - loss: 17.1837 - mae: 36308.6250 - val_loss: 28.9011 - val_mae: 55823.2031 - 664ms/epoch - 1ms/step\n",
            "Epoch 170/500\n",
            "479/479 - 1s - loss: 17.1960 - mae: 36327.4453 - val_loss: 27.5489 - val_mae: 56531.5234 - 857ms/epoch - 2ms/step\n",
            "Epoch 171/500\n",
            "479/479 - 1s - loss: 17.1986 - mae: 36216.2422 - val_loss: 26.8764 - val_mae: 58715.9727 - 836ms/epoch - 2ms/step\n",
            "Epoch 172/500\n",
            "479/479 - 1s - loss: 17.1592 - mae: 36298.0625 - val_loss: 27.9309 - val_mae: 56555.8711 - 755ms/epoch - 2ms/step\n",
            "Epoch 173/500\n",
            "479/479 - 1s - loss: 17.1467 - mae: 36141.0273 - val_loss: 26.9712 - val_mae: 55931.0859 - 807ms/epoch - 2ms/step\n",
            "Epoch 174/500\n",
            "479/479 - 1s - loss: 17.1537 - mae: 36208.1133 - val_loss: 27.6862 - val_mae: 56334.3477 - 671ms/epoch - 1ms/step\n",
            "Epoch 175/500\n",
            "479/479 - 1s - loss: 17.1047 - mae: 36075.9727 - val_loss: 27.3226 - val_mae: 57261.6133 - 849ms/epoch - 2ms/step\n",
            "Epoch 176/500\n",
            "479/479 - 1s - loss: 17.1318 - mae: 36148.2930 - val_loss: 27.0191 - val_mae: 55116.2383 - 673ms/epoch - 1ms/step\n",
            "Epoch 177/500\n",
            "479/479 - 1s - loss: 17.0636 - mae: 36037.3242 - val_loss: 28.0482 - val_mae: 55577.6289 - 845ms/epoch - 2ms/step\n",
            "Epoch 178/500\n",
            "479/479 - 1s - loss: 17.0871 - mae: 35960.4844 - val_loss: 28.3597 - val_mae: 55546.1680 - 647ms/epoch - 1ms/step\n",
            "Epoch 179/500\n",
            "479/479 - 1s - loss: 17.0776 - mae: 36067.5820 - val_loss: 27.0958 - val_mae: 55304.2305 - 659ms/epoch - 1ms/step\n",
            "Epoch 180/500\n",
            "479/479 - 1s - loss: 17.0464 - mae: 35987.5664 - val_loss: 27.9531 - val_mae: 56519.3281 - 649ms/epoch - 1ms/step\n",
            "Epoch 181/500\n",
            "479/479 - 1s - loss: 17.0243 - mae: 35943.5234 - val_loss: 27.3786 - val_mae: 56277.6484 - 656ms/epoch - 1ms/step\n",
            "Epoch 182/500\n",
            "479/479 - 1s - loss: 17.0057 - mae: 35908.0469 - val_loss: 27.2726 - val_mae: 56771.7969 - 992ms/epoch - 2ms/step\n",
            "Epoch 183/500\n",
            "479/479 - 1s - loss: 16.9879 - mae: 35912.5547 - val_loss: 27.1494 - val_mae: 55604.5664 - 891ms/epoch - 2ms/step\n",
            "Epoch 184/500\n",
            "479/479 - 1s - loss: 16.9817 - mae: 35872.2891 - val_loss: 26.6928 - val_mae: 54550.3008 - 846ms/epoch - 2ms/step\n",
            "Epoch 185/500\n",
            "479/479 - 1s - loss: 17.0039 - mae: 35852.9883 - val_loss: 26.3917 - val_mae: 55227.0742 - 704ms/epoch - 1ms/step\n",
            "Epoch 186/500\n",
            "479/479 - 1s - loss: 16.9597 - mae: 35748.1875 - val_loss: 26.2087 - val_mae: 57535.4883 - 662ms/epoch - 1ms/step\n",
            "Epoch 187/500\n",
            "479/479 - 1s - loss: 16.9751 - mae: 35854.1094 - val_loss: 27.5147 - val_mae: 55876.3438 - 681ms/epoch - 1ms/step\n",
            "Epoch 188/500\n",
            "479/479 - 1s - loss: 16.9342 - mae: 35771.9805 - val_loss: 27.2134 - val_mae: 55626.0156 - 662ms/epoch - 1ms/step\n",
            "Epoch 189/500\n",
            "479/479 - 1s - loss: 16.9104 - mae: 35660.2422 - val_loss: 27.2363 - val_mae: 56837.2891 - 663ms/epoch - 1ms/step\n",
            "Epoch 190/500\n",
            "479/479 - 1s - loss: 16.9184 - mae: 35747.7266 - val_loss: 27.2467 - val_mae: 56426.2617 - 874ms/epoch - 2ms/step\n",
            "Epoch 191/500\n",
            "479/479 - 1s - loss: 16.9304 - mae: 35751.9375 - val_loss: 28.2049 - val_mae: 55041.6836 - 923ms/epoch - 2ms/step\n",
            "Epoch 192/500\n",
            "479/479 - 1s - loss: 16.9097 - mae: 35705.4375 - val_loss: 27.1010 - val_mae: 56363.1328 - 768ms/epoch - 2ms/step\n",
            "Epoch 193/500\n",
            "479/479 - 1s - loss: 16.9377 - mae: 35717.7383 - val_loss: 27.4170 - val_mae: 55355.9219 - 767ms/epoch - 2ms/step\n",
            "Epoch 194/500\n",
            "479/479 - 1s - loss: 16.8638 - mae: 35580.4414 - val_loss: 28.0256 - val_mae: 54918.9453 - 823ms/epoch - 2ms/step\n",
            "Epoch 195/500\n",
            "479/479 - 1s - loss: 16.8804 - mae: 35576.5547 - val_loss: 27.5744 - val_mae: 53705.2695 - 864ms/epoch - 2ms/step\n",
            "Epoch 196/500\n",
            "479/479 - 1s - loss: 16.8495 - mae: 35526.2695 - val_loss: 26.7151 - val_mae: 57982.6914 - 936ms/epoch - 2ms/step\n",
            "Epoch 197/500\n",
            "479/479 - 1s - loss: 16.8454 - mae: 35522.0000 - val_loss: 28.1959 - val_mae: 55848.8672 - 957ms/epoch - 2ms/step\n",
            "Epoch 198/500\n",
            "479/479 - 1s - loss: 16.8318 - mae: 35477.2695 - val_loss: 26.4354 - val_mae: 56000.2266 - 963ms/epoch - 2ms/step\n",
            "Epoch 199/500\n",
            "479/479 - 1s - loss: 16.8263 - mae: 35544.9922 - val_loss: 27.1791 - val_mae: 55296.0898 - 873ms/epoch - 2ms/step\n",
            "Epoch 200/500\n",
            "479/479 - 1s - loss: 16.8049 - mae: 35470.5273 - val_loss: 26.8270 - val_mae: 55342.1211 - 663ms/epoch - 1ms/step\n",
            "Epoch 201/500\n",
            "479/479 - 1s - loss: 16.8112 - mae: 35434.3203 - val_loss: 26.9517 - val_mae: 54702.1094 - 690ms/epoch - 1ms/step\n",
            "Epoch 202/500\n",
            "479/479 - 1s - loss: 16.7985 - mae: 35481.0000 - val_loss: 26.4988 - val_mae: 55904.5977 - 847ms/epoch - 2ms/step\n",
            "Epoch 203/500\n",
            "479/479 - 1s - loss: 16.7714 - mae: 35457.8828 - val_loss: 26.5856 - val_mae: 55857.2812 - 766ms/epoch - 2ms/step\n",
            "Epoch 204/500\n",
            "479/479 - 1s - loss: 16.7743 - mae: 35323.2031 - val_loss: 26.9885 - val_mae: 54960.5000 - 831ms/epoch - 2ms/step\n",
            "Epoch 205/500\n",
            "479/479 - 1s - loss: 16.7484 - mae: 35371.7461 - val_loss: 27.2351 - val_mae: 54509.3594 - 670ms/epoch - 1ms/step\n",
            "Epoch 206/500\n",
            "479/479 - 1s - loss: 16.7274 - mae: 35310.2422 - val_loss: 27.8888 - val_mae: 53514.0078 - 688ms/epoch - 1ms/step\n",
            "Epoch 207/500\n",
            "479/479 - 1s - loss: 16.7550 - mae: 35338.0820 - val_loss: 26.3026 - val_mae: 54087.7539 - 670ms/epoch - 1ms/step\n",
            "Epoch 208/500\n",
            "479/479 - 1s - loss: 16.7099 - mae: 35235.0664 - val_loss: 27.0645 - val_mae: 54711.5156 - 643ms/epoch - 1ms/step\n",
            "Epoch 209/500\n",
            "479/479 - 1s - loss: 16.7526 - mae: 35345.6172 - val_loss: 27.9902 - val_mae: 54914.4414 - 670ms/epoch - 1ms/step\n",
            "Epoch 210/500\n",
            "479/479 - 1s - loss: 16.6721 - mae: 35263.4648 - val_loss: 26.6515 - val_mae: 53915.0820 - 685ms/epoch - 1ms/step\n",
            "Epoch 211/500\n",
            "479/479 - 1s - loss: 16.7151 - mae: 35206.4727 - val_loss: 27.2358 - val_mae: 56083.0547 - 651ms/epoch - 1ms/step\n",
            "Epoch 212/500\n",
            "479/479 - 1s - loss: 16.6927 - mae: 35207.4805 - val_loss: 27.1617 - val_mae: 53796.0508 - 825ms/epoch - 2ms/step\n",
            "Epoch 213/500\n",
            "479/479 - 1s - loss: 16.7030 - mae: 35207.3828 - val_loss: 27.5915 - val_mae: 53486.3945 - 904ms/epoch - 2ms/step\n",
            "Epoch 214/500\n",
            "479/479 - 1s - loss: 16.6597 - mae: 35114.7539 - val_loss: 26.5973 - val_mae: 53679.9727 - 759ms/epoch - 2ms/step\n",
            "Epoch 215/500\n",
            "479/479 - 1s - loss: 16.6938 - mae: 35143.5820 - val_loss: 26.7915 - val_mae: 53629.8633 - 654ms/epoch - 1ms/step\n",
            "Epoch 216/500\n",
            "479/479 - 1s - loss: 16.6782 - mae: 35188.7266 - val_loss: 26.0912 - val_mae: 53826.0781 - 742ms/epoch - 2ms/step\n",
            "Epoch 217/500\n",
            "479/479 - 1s - loss: 16.6396 - mae: 35121.7344 - val_loss: 26.4603 - val_mae: 53903.6992 - 858ms/epoch - 2ms/step\n",
            "Epoch 218/500\n",
            "479/479 - 1s - loss: 16.6536 - mae: 35158.4336 - val_loss: 27.3765 - val_mae: 53892.1211 - 678ms/epoch - 1ms/step\n",
            "Epoch 219/500\n",
            "479/479 - 1s - loss: 16.6067 - mae: 35034.3516 - val_loss: 26.0658 - val_mae: 54820.1406 - 637ms/epoch - 1ms/step\n",
            "Epoch 220/500\n",
            "479/479 - 1s - loss: 16.6115 - mae: 35002.3164 - val_loss: 27.5593 - val_mae: 54125.8008 - 653ms/epoch - 1ms/step\n",
            "Epoch 221/500\n",
            "479/479 - 1s - loss: 16.6435 - mae: 35104.3359 - val_loss: 25.9947 - val_mae: 54713.8125 - 654ms/epoch - 1ms/step\n",
            "Epoch 222/500\n",
            "479/479 - 1s - loss: 16.6320 - mae: 35058.9922 - val_loss: 25.9880 - val_mae: 53102.0742 - 661ms/epoch - 1ms/step\n",
            "Epoch 223/500\n",
            "479/479 - 1s - loss: 16.5777 - mae: 34997.9531 - val_loss: 26.5559 - val_mae: 53684.6836 - 670ms/epoch - 1ms/step\n",
            "Epoch 224/500\n",
            "479/479 - 1s - loss: 16.5915 - mae: 34945.9141 - val_loss: 26.9469 - val_mae: 55935.0742 - 678ms/epoch - 1ms/step\n",
            "Epoch 225/500\n",
            "479/479 - 1s - loss: 16.6063 - mae: 34986.9180 - val_loss: 25.8765 - val_mae: 54246.6172 - 639ms/epoch - 1ms/step\n",
            "Epoch 226/500\n",
            "479/479 - 1s - loss: 16.5536 - mae: 34910.5234 - val_loss: 25.4281 - val_mae: 54331.7266 - 696ms/epoch - 1ms/step\n",
            "Epoch 227/500\n",
            "479/479 - 1s - loss: 16.5842 - mae: 34965.1094 - val_loss: 25.9541 - val_mae: 53971.6406 - 932ms/epoch - 2ms/step\n",
            "Epoch 228/500\n",
            "479/479 - 1s - loss: 16.5665 - mae: 35022.2383 - val_loss: 25.9908 - val_mae: 53304.1328 - 1s/epoch - 2ms/step\n",
            "Epoch 229/500\n",
            "479/479 - 1s - loss: 16.5743 - mae: 34864.4922 - val_loss: 25.6329 - val_mae: 54658.8242 - 972ms/epoch - 2ms/step\n",
            "Epoch 230/500\n",
            "479/479 - 1s - loss: 16.5489 - mae: 34918.6680 - val_loss: 26.6301 - val_mae: 54177.6172 - 638ms/epoch - 1ms/step\n",
            "Epoch 231/500\n",
            "479/479 - 1s - loss: 16.5351 - mae: 34785.8242 - val_loss: 26.1462 - val_mae: 52936.8281 - 649ms/epoch - 1ms/step\n",
            "Epoch 232/500\n",
            "479/479 - 1s - loss: 16.5481 - mae: 34877.3945 - val_loss: 26.5622 - val_mae: 55047.2422 - 665ms/epoch - 1ms/step\n",
            "Epoch 233/500\n",
            "479/479 - 1s - loss: 16.5213 - mae: 34796.4102 - val_loss: 27.1965 - val_mae: 52866.6719 - 850ms/epoch - 2ms/step\n",
            "Epoch 234/500\n",
            "479/479 - 1s - loss: 16.4894 - mae: 34696.5508 - val_loss: 25.4295 - val_mae: 54615.3828 - 852ms/epoch - 2ms/step\n",
            "Epoch 235/500\n",
            "479/479 - 1s - loss: 16.5557 - mae: 34819.5391 - val_loss: 26.7357 - val_mae: 55146.3281 - 839ms/epoch - 2ms/step\n",
            "Epoch 236/500\n",
            "479/479 - 1s - loss: 16.4817 - mae: 34738.1172 - val_loss: 25.9479 - val_mae: 52432.9453 - 677ms/epoch - 1ms/step\n",
            "Epoch 237/500\n",
            "479/479 - 1s - loss: 16.5113 - mae: 34788.6719 - val_loss: 26.9379 - val_mae: 53724.6875 - 662ms/epoch - 1ms/step\n",
            "Epoch 238/500\n",
            "479/479 - 1s - loss: 16.5111 - mae: 34761.2773 - val_loss: 25.4678 - val_mae: 52315.3711 - 667ms/epoch - 1ms/step\n",
            "Epoch 239/500\n",
            "479/479 - 1s - loss: 16.5027 - mae: 34783.7773 - val_loss: 27.0824 - val_mae: 52685.7148 - 675ms/epoch - 1ms/step\n",
            "Epoch 240/500\n",
            "479/479 - 1s - loss: 16.4825 - mae: 34778.4766 - val_loss: 26.0274 - val_mae: 52121.4648 - 676ms/epoch - 1ms/step\n",
            "Epoch 241/500\n",
            "479/479 - 1s - loss: 16.5177 - mae: 34799.7578 - val_loss: 25.9196 - val_mae: 53253.8633 - 674ms/epoch - 1ms/step\n",
            "Epoch 242/500\n",
            "479/479 - 1s - loss: 16.4628 - mae: 34669.1992 - val_loss: 25.9377 - val_mae: 53081.4727 - 678ms/epoch - 1ms/step\n",
            "Epoch 243/500\n",
            "479/479 - 1s - loss: 16.4475 - mae: 34647.8906 - val_loss: 25.9946 - val_mae: 52758.8750 - 866ms/epoch - 2ms/step\n",
            "Epoch 244/500\n",
            "479/479 - 1s - loss: 16.4563 - mae: 34670.2578 - val_loss: 25.7395 - val_mae: 52508.1992 - 1s/epoch - 2ms/step\n",
            "Epoch 245/500\n",
            "479/479 - 1s - loss: 16.4455 - mae: 34661.0234 - val_loss: 26.1647 - val_mae: 52660.5977 - 891ms/epoch - 2ms/step\n",
            "Epoch 246/500\n",
            "479/479 - 1s - loss: 16.4664 - mae: 34650.8984 - val_loss: 25.3105 - val_mae: 54041.8125 - 674ms/epoch - 1ms/step\n",
            "Epoch 247/500\n",
            "479/479 - 1s - loss: 16.4021 - mae: 34607.8516 - val_loss: 26.0826 - val_mae: 54750.5039 - 679ms/epoch - 1ms/step\n",
            "Epoch 248/500\n",
            "479/479 - 1s - loss: 16.4291 - mae: 34661.4883 - val_loss: 25.5228 - val_mae: 54068.0781 - 848ms/epoch - 2ms/step\n",
            "Epoch 249/500\n",
            "479/479 - 1s - loss: 16.3950 - mae: 34544.4883 - val_loss: 25.9837 - val_mae: 52131.7539 - 859ms/epoch - 2ms/step\n",
            "Epoch 250/500\n",
            "479/479 - 1s - loss: 16.3736 - mae: 34417.9023 - val_loss: 26.2221 - val_mae: 51887.4531 - 683ms/epoch - 1ms/step\n",
            "Epoch 251/500\n",
            "479/479 - 1s - loss: 16.3925 - mae: 34586.2969 - val_loss: 25.7428 - val_mae: 51952.0898 - 681ms/epoch - 1ms/step\n",
            "Epoch 252/500\n",
            "479/479 - 1s - loss: 16.4195 - mae: 34678.9336 - val_loss: 25.2348 - val_mae: 52963.4688 - 675ms/epoch - 1ms/step\n",
            "Epoch 253/500\n",
            "479/479 - 1s - loss: 16.3600 - mae: 34490.2461 - val_loss: 25.7138 - val_mae: 55059.5664 - 686ms/epoch - 1ms/step\n",
            "Epoch 254/500\n",
            "479/479 - 1s - loss: 16.3811 - mae: 34492.3711 - val_loss: 25.6658 - val_mae: 55015.6602 - 660ms/epoch - 1ms/step\n",
            "Epoch 255/500\n",
            "479/479 - 1s - loss: 16.3777 - mae: 34514.2227 - val_loss: 26.1624 - val_mae: 52395.2930 - 675ms/epoch - 1ms/step\n",
            "Epoch 256/500\n",
            "479/479 - 1s - loss: 16.3598 - mae: 34529.0664 - val_loss: 26.2129 - val_mae: 51294.3945 - 660ms/epoch - 1ms/step\n",
            "Epoch 257/500\n",
            "479/479 - 1s - loss: 16.3787 - mae: 34535.3672 - val_loss: 25.3518 - val_mae: 54936.9883 - 664ms/epoch - 1ms/step\n",
            "Epoch 258/500\n",
            "479/479 - 1s - loss: 16.3588 - mae: 34515.0000 - val_loss: 25.6022 - val_mae: 54174.1055 - 676ms/epoch - 1ms/step\n",
            "Epoch 259/500\n",
            "479/479 - 1s - loss: 16.3755 - mae: 34415.2773 - val_loss: 25.6856 - val_mae: 50916.9844 - 767ms/epoch - 2ms/step\n",
            "Epoch 260/500\n",
            "479/479 - 1s - loss: 16.3777 - mae: 34443.5547 - val_loss: 25.5580 - val_mae: 52748.3945 - 910ms/epoch - 2ms/step\n",
            "Epoch 261/500\n",
            "479/479 - 1s - loss: 16.3105 - mae: 34388.1680 - val_loss: 26.5592 - val_mae: 52318.1328 - 810ms/epoch - 2ms/step\n",
            "Epoch 262/500\n",
            "479/479 - 1s - loss: 16.2935 - mae: 34355.6680 - val_loss: 25.8350 - val_mae: 51280.6289 - 676ms/epoch - 1ms/step\n",
            "Epoch 263/500\n",
            "479/479 - 1s - loss: 16.3057 - mae: 34292.6367 - val_loss: 25.0883 - val_mae: 51408.5078 - 696ms/epoch - 1ms/step\n",
            "Epoch 264/500\n",
            "479/479 - 1s - loss: 16.3089 - mae: 34334.7539 - val_loss: 25.5833 - val_mae: 51660.8984 - 660ms/epoch - 1ms/step\n",
            "Epoch 265/500\n",
            "479/479 - 1s - loss: 16.2767 - mae: 34304.6758 - val_loss: 25.3685 - val_mae: 54842.8203 - 672ms/epoch - 1ms/step\n",
            "Epoch 266/500\n",
            "479/479 - 1s - loss: 16.3126 - mae: 34391.6836 - val_loss: 25.5333 - val_mae: 52667.5820 - 647ms/epoch - 1ms/step\n",
            "Epoch 267/500\n",
            "479/479 - 1s - loss: 16.2601 - mae: 34288.0547 - val_loss: 24.9771 - val_mae: 52446.6875 - 660ms/epoch - 1ms/step\n",
            "Epoch 268/500\n",
            "479/479 - 1s - loss: 16.2872 - mae: 34302.4180 - val_loss: 25.1254 - val_mae: 52167.1641 - 670ms/epoch - 1ms/step\n",
            "Epoch 269/500\n",
            "479/479 - 1s - loss: 16.2985 - mae: 34358.1523 - val_loss: 25.2137 - val_mae: 53710.9453 - 655ms/epoch - 1ms/step\n",
            "Epoch 270/500\n",
            "479/479 - 1s - loss: 16.2700 - mae: 34314.7930 - val_loss: 25.4096 - val_mae: 51708.3398 - 683ms/epoch - 1ms/step\n",
            "Epoch 271/500\n",
            "479/479 - 1s - loss: 16.2522 - mae: 34271.9375 - val_loss: 25.6617 - val_mae: 52054.0156 - 661ms/epoch - 1ms/step\n",
            "Epoch 272/500\n",
            "479/479 - 1s - loss: 16.2930 - mae: 34300.0703 - val_loss: 25.2866 - val_mae: 50826.7578 - 653ms/epoch - 1ms/step\n",
            "Epoch 273/500\n",
            "479/479 - 1s - loss: 16.2854 - mae: 34308.1211 - val_loss: 25.4503 - val_mae: 51007.0430 - 656ms/epoch - 1ms/step\n",
            "Epoch 274/500\n",
            "479/479 - 1s - loss: 16.2474 - mae: 34163.8789 - val_loss: 26.3558 - val_mae: 52722.3750 - 644ms/epoch - 1ms/step\n",
            "Epoch 275/500\n",
            "479/479 - 1s - loss: 16.2544 - mae: 34291.9453 - val_loss: 26.1318 - val_mae: 51392.4648 - 672ms/epoch - 1ms/step\n",
            "Epoch 276/500\n",
            "479/479 - 1s - loss: 16.1898 - mae: 34107.0781 - val_loss: 26.1000 - val_mae: 52528.5312 - 908ms/epoch - 2ms/step\n",
            "Epoch 277/500\n",
            "479/479 - 1s - loss: 16.2010 - mae: 34198.8516 - val_loss: 25.8600 - val_mae: 51837.5117 - 1s/epoch - 2ms/step\n",
            "Epoch 278/500\n",
            "479/479 - 1s - loss: 16.2157 - mae: 34182.6289 - val_loss: 24.5527 - val_mae: 52525.2266 - 707ms/epoch - 1ms/step\n",
            "Epoch 279/500\n",
            "479/479 - 1s - loss: 16.2156 - mae: 34169.1406 - val_loss: 25.2032 - val_mae: 50450.6914 - 659ms/epoch - 1ms/step\n",
            "Epoch 280/500\n",
            "479/479 - 1s - loss: 16.2127 - mae: 34185.3789 - val_loss: 25.4759 - val_mae: 52481.0586 - 666ms/epoch - 1ms/step\n",
            "Epoch 281/500\n",
            "479/479 - 1s - loss: 16.1992 - mae: 34142.4570 - val_loss: 25.8441 - val_mae: 52095.2656 - 651ms/epoch - 1ms/step\n",
            "Epoch 282/500\n",
            "479/479 - 1s - loss: 16.1898 - mae: 34160.3125 - val_loss: 24.8333 - val_mae: 52668.8203 - 651ms/epoch - 1ms/step\n",
            "Epoch 283/500\n",
            "479/479 - 1s - loss: 16.1866 - mae: 34053.3633 - val_loss: 25.1851 - val_mae: 52963.2852 - 651ms/epoch - 1ms/step\n",
            "Epoch 284/500\n",
            "479/479 - 1s - loss: 16.1786 - mae: 34153.0938 - val_loss: 25.0286 - val_mae: 52362.0508 - 650ms/epoch - 1ms/step\n",
            "Epoch 285/500\n",
            "479/479 - 1s - loss: 16.1496 - mae: 34020.2852 - val_loss: 24.2829 - val_mae: 52693.8125 - 654ms/epoch - 1ms/step\n",
            "Epoch 286/500\n",
            "479/479 - 1s - loss: 16.1812 - mae: 34028.3320 - val_loss: 24.9835 - val_mae: 52568.4141 - 669ms/epoch - 1ms/step\n",
            "Epoch 287/500\n",
            "479/479 - 1s - loss: 16.1501 - mae: 34029.4805 - val_loss: 24.9016 - val_mae: 51925.6797 - 700ms/epoch - 1ms/step\n",
            "Epoch 288/500\n",
            "479/479 - 1s - loss: 16.1247 - mae: 33989.3242 - val_loss: 24.9864 - val_mae: 50476.5195 - 851ms/epoch - 2ms/step\n",
            "Epoch 289/500\n",
            "479/479 - 1s - loss: 16.1424 - mae: 34066.2578 - val_loss: 25.0017 - val_mae: 50346.9453 - 659ms/epoch - 1ms/step\n",
            "Epoch 290/500\n",
            "479/479 - 1s - loss: 16.1339 - mae: 34013.2188 - val_loss: 24.9525 - val_mae: 52432.2070 - 650ms/epoch - 1ms/step\n",
            "Epoch 291/500\n",
            "479/479 - 1s - loss: 16.2046 - mae: 34048.2656 - val_loss: 24.5500 - val_mae: 53480.4609 - 658ms/epoch - 1ms/step\n",
            "Epoch 292/500\n",
            "479/479 - 1s - loss: 16.1070 - mae: 33897.8789 - val_loss: 25.8342 - val_mae: 51709.9727 - 713ms/epoch - 1ms/step\n",
            "Epoch 293/500\n",
            "479/479 - 1s - loss: 16.1327 - mae: 34019.2930 - val_loss: 24.7061 - val_mae: 51700.1641 - 868ms/epoch - 2ms/step\n",
            "Epoch 294/500\n",
            "479/479 - 1s - loss: 16.1393 - mae: 34020.8203 - val_loss: 24.5502 - val_mae: 49898.3477 - 878ms/epoch - 2ms/step\n",
            "Epoch 295/500\n",
            "479/479 - 1s - loss: 16.0731 - mae: 33888.6289 - val_loss: 24.5554 - val_mae: 52894.7617 - 640ms/epoch - 1ms/step\n",
            "Epoch 296/500\n",
            "479/479 - 1s - loss: 16.1313 - mae: 34051.5938 - val_loss: 24.8827 - val_mae: 51080.0625 - 666ms/epoch - 1ms/step\n",
            "Epoch 297/500\n",
            "479/479 - 1s - loss: 16.1174 - mae: 33932.5273 - val_loss: 25.4690 - val_mae: 55115.1406 - 666ms/epoch - 1ms/step\n",
            "Epoch 298/500\n",
            "479/479 - 1s - loss: 16.0849 - mae: 33887.5703 - val_loss: 25.2846 - val_mae: 50620.4805 - 652ms/epoch - 1ms/step\n",
            "Epoch 299/500\n",
            "479/479 - 1s - loss: 16.0793 - mae: 33870.7070 - val_loss: 24.5153 - val_mae: 51045.8867 - 649ms/epoch - 1ms/step\n",
            "Epoch 300/500\n",
            "479/479 - 1s - loss: 16.0911 - mae: 33872.8711 - val_loss: 24.5062 - val_mae: 50257.3242 - 650ms/epoch - 1ms/step\n",
            "Epoch 301/500\n",
            "479/479 - 1s - loss: 16.0756 - mae: 33835.1484 - val_loss: 24.3447 - val_mae: 53114.7617 - 664ms/epoch - 1ms/step\n",
            "Epoch 302/500\n",
            "479/479 - 1s - loss: 16.0125 - mae: 33748.6523 - val_loss: 24.4650 - val_mae: 50344.1680 - 653ms/epoch - 1ms/step\n",
            "Epoch 303/500\n",
            "479/479 - 1s - loss: 16.0127 - mae: 33779.5977 - val_loss: 25.1018 - val_mae: 51320.6406 - 657ms/epoch - 1ms/step\n",
            "Epoch 304/500\n",
            "479/479 - 1s - loss: 16.0233 - mae: 33805.5703 - val_loss: 24.3522 - val_mae: 50763.2656 - 658ms/epoch - 1ms/step\n",
            "Epoch 305/500\n",
            "479/479 - 1s - loss: 15.9982 - mae: 33727.2812 - val_loss: 24.5542 - val_mae: 50869.1445 - 655ms/epoch - 1ms/step\n",
            "Epoch 306/500\n",
            "479/479 - 1s - loss: 16.0481 - mae: 33738.9922 - val_loss: 24.9322 - val_mae: 51465.6523 - 648ms/epoch - 1ms/step\n",
            "Epoch 307/500\n",
            "479/479 - 1s - loss: 16.0446 - mae: 33854.8164 - val_loss: 24.6148 - val_mae: 51329.0781 - 643ms/epoch - 1ms/step\n",
            "Epoch 308/500\n",
            "479/479 - 1s - loss: 16.0645 - mae: 33786.4375 - val_loss: 24.3773 - val_mae: 52551.5117 - 678ms/epoch - 1ms/step\n",
            "Epoch 309/500\n",
            "479/479 - 1s - loss: 16.0104 - mae: 33718.0742 - val_loss: 24.2196 - val_mae: 52239.7148 - 761ms/epoch - 2ms/step\n",
            "Epoch 310/500\n",
            "479/479 - 1s - loss: 16.0167 - mae: 33725.9805 - val_loss: 24.4914 - val_mae: 51222.7266 - 897ms/epoch - 2ms/step\n",
            "Epoch 311/500\n",
            "479/479 - 1s - loss: 16.0094 - mae: 33715.2617 - val_loss: 24.5222 - val_mae: 49179.3867 - 865ms/epoch - 2ms/step\n",
            "Epoch 312/500\n",
            "479/479 - 1s - loss: 15.9831 - mae: 33680.1562 - val_loss: 23.7546 - val_mae: 52376.2148 - 670ms/epoch - 1ms/step\n",
            "Epoch 313/500\n",
            "479/479 - 1s - loss: 15.9864 - mae: 33663.5625 - val_loss: 24.7172 - val_mae: 48360.0391 - 642ms/epoch - 1ms/step\n",
            "Epoch 314/500\n",
            "479/479 - 1s - loss: 15.9752 - mae: 33748.7461 - val_loss: 25.1949 - val_mae: 49613.2969 - 638ms/epoch - 1ms/step\n",
            "Epoch 315/500\n",
            "479/479 - 1s - loss: 15.9736 - mae: 33665.2188 - val_loss: 24.3642 - val_mae: 51563.5430 - 653ms/epoch - 1ms/step\n",
            "Epoch 316/500\n",
            "479/479 - 1s - loss: 15.9363 - mae: 33642.8125 - val_loss: 24.2283 - val_mae: 51971.0078 - 672ms/epoch - 1ms/step\n",
            "Epoch 317/500\n",
            "479/479 - 1s - loss: 15.9588 - mae: 33587.4219 - val_loss: 24.6540 - val_mae: 51835.0352 - 670ms/epoch - 1ms/step\n",
            "Epoch 318/500\n",
            "479/479 - 1s - loss: 15.9311 - mae: 33656.7109 - val_loss: 23.9875 - val_mae: 52031.8359 - 641ms/epoch - 1ms/step\n",
            "Epoch 319/500\n",
            "479/479 - 1s - loss: 15.9771 - mae: 33563.4922 - val_loss: 24.0775 - val_mae: 51023.7227 - 664ms/epoch - 1ms/step\n",
            "Epoch 320/500\n",
            "479/479 - 1s - loss: 15.9723 - mae: 33685.9062 - val_loss: 24.6271 - val_mae: 49743.8672 - 650ms/epoch - 1ms/step\n",
            "Epoch 321/500\n",
            "479/479 - 1s - loss: 15.9265 - mae: 33527.4023 - val_loss: 24.7093 - val_mae: 53218.5547 - 662ms/epoch - 1ms/step\n",
            "Epoch 322/500\n",
            "479/479 - 1s - loss: 15.9046 - mae: 33493.9844 - val_loss: 24.9307 - val_mae: 52597.8438 - 638ms/epoch - 1ms/step\n",
            "Epoch 323/500\n",
            "479/479 - 1s - loss: 15.9191 - mae: 33597.9375 - val_loss: 24.6071 - val_mae: 52698.2383 - 668ms/epoch - 1ms/step\n",
            "Epoch 324/500\n",
            "479/479 - 1s - loss: 15.9411 - mae: 33596.0586 - val_loss: 23.7769 - val_mae: 51195.7266 - 661ms/epoch - 1ms/step\n",
            "Epoch 325/500\n",
            "479/479 - 1s - loss: 15.8916 - mae: 33451.3867 - val_loss: 23.8777 - val_mae: 52019.7656 - 691ms/epoch - 1ms/step\n",
            "Epoch 326/500\n",
            "479/479 - 1s - loss: 15.9067 - mae: 33516.3086 - val_loss: 23.5465 - val_mae: 51804.1367 - 810ms/epoch - 2ms/step\n",
            "Epoch 327/500\n",
            "479/479 - 1s - loss: 15.8925 - mae: 33572.3594 - val_loss: 23.8904 - val_mae: 51823.4883 - 885ms/epoch - 2ms/step\n",
            "Epoch 328/500\n",
            "479/479 - 1s - loss: 15.9014 - mae: 33525.6836 - val_loss: 23.7982 - val_mae: 49673.8555 - 803ms/epoch - 2ms/step\n",
            "Epoch 329/500\n",
            "479/479 - 1s - loss: 15.8713 - mae: 33471.6836 - val_loss: 23.6992 - val_mae: 52677.2188 - 662ms/epoch - 1ms/step\n",
            "Epoch 330/500\n",
            "479/479 - 1s - loss: 15.9026 - mae: 33558.2656 - val_loss: 24.2751 - val_mae: 49500.7617 - 665ms/epoch - 1ms/step\n",
            "Epoch 331/500\n",
            "479/479 - 1s - loss: 15.8227 - mae: 33362.9922 - val_loss: 23.6980 - val_mae: 51458.9219 - 637ms/epoch - 1ms/step\n",
            "Epoch 332/500\n",
            "479/479 - 1s - loss: 15.8891 - mae: 33597.8242 - val_loss: 24.0893 - val_mae: 50634.8789 - 640ms/epoch - 1ms/step\n",
            "Epoch 333/500\n",
            "479/479 - 1s - loss: 15.8989 - mae: 33527.1797 - val_loss: 23.8751 - val_mae: 50480.5273 - 684ms/epoch - 1ms/step\n",
            "Epoch 334/500\n",
            "479/479 - 1s - loss: 15.8723 - mae: 33442.9883 - val_loss: 23.9692 - val_mae: 51524.0156 - 667ms/epoch - 1ms/step\n",
            "Epoch 335/500\n",
            "479/479 - 1s - loss: 15.8267 - mae: 33386.7500 - val_loss: 24.4980 - val_mae: 49917.7031 - 645ms/epoch - 1ms/step\n",
            "Epoch 336/500\n",
            "479/479 - 1s - loss: 15.8250 - mae: 33379.2539 - val_loss: 24.0855 - val_mae: 50507.7266 - 656ms/epoch - 1ms/step\n",
            "Epoch 337/500\n",
            "479/479 - 1s - loss: 15.8516 - mae: 33435.5195 - val_loss: 23.7634 - val_mae: 51771.2656 - 668ms/epoch - 1ms/step\n",
            "Epoch 338/500\n",
            "479/479 - 1s - loss: 15.8663 - mae: 33418.4961 - val_loss: 24.1807 - val_mae: 51041.6055 - 656ms/epoch - 1ms/step\n",
            "Epoch 339/500\n",
            "479/479 - 1s - loss: 15.8067 - mae: 33349.9648 - val_loss: 24.0485 - val_mae: 48909.9570 - 647ms/epoch - 1ms/step\n",
            "Epoch 340/500\n",
            "479/479 - 1s - loss: 15.8494 - mae: 33378.9219 - val_loss: 23.6749 - val_mae: 49507.5703 - 680ms/epoch - 1ms/step\n",
            "Epoch 341/500\n",
            "479/479 - 1s - loss: 15.7945 - mae: 33329.8477 - val_loss: 23.8941 - val_mae: 51439.5547 - 653ms/epoch - 1ms/step\n",
            "Epoch 342/500\n",
            "479/479 - 1s - loss: 15.8161 - mae: 33361.6289 - val_loss: 23.6153 - val_mae: 51035.1992 - 659ms/epoch - 1ms/step\n",
            "Epoch 343/500\n",
            "479/479 - 1s - loss: 15.8354 - mae: 33422.8164 - val_loss: 24.3876 - val_mae: 52349.6719 - 756ms/epoch - 2ms/step\n",
            "Epoch 344/500\n",
            "479/479 - 1s - loss: 15.7895 - mae: 33331.1172 - val_loss: 23.6162 - val_mae: 50683.1953 - 896ms/epoch - 2ms/step\n",
            "Epoch 345/500\n",
            "479/479 - 1s - loss: 15.7962 - mae: 33335.3984 - val_loss: 23.6576 - val_mae: 50097.1797 - 800ms/epoch - 2ms/step\n",
            "Epoch 346/500\n",
            "479/479 - 1s - loss: 15.8305 - mae: 33409.0195 - val_loss: 23.6316 - val_mae: 51934.9023 - 648ms/epoch - 1ms/step\n",
            "Epoch 347/500\n",
            "479/479 - 1s - loss: 15.7282 - mae: 33252.9805 - val_loss: 23.4016 - val_mae: 49856.6211 - 642ms/epoch - 1ms/step\n",
            "Epoch 348/500\n",
            "479/479 - 1s - loss: 15.7787 - mae: 33260.6289 - val_loss: 23.6206 - val_mae: 53085.4570 - 635ms/epoch - 1ms/step\n",
            "Epoch 349/500\n",
            "479/479 - 1s - loss: 15.7889 - mae: 33303.5156 - val_loss: 23.2736 - val_mae: 50785.2578 - 661ms/epoch - 1ms/step\n",
            "Epoch 350/500\n",
            "479/479 - 1s - loss: 15.7516 - mae: 33250.0977 - val_loss: 23.9332 - val_mae: 49914.5586 - 663ms/epoch - 1ms/step\n",
            "Epoch 351/500\n",
            "479/479 - 1s - loss: 15.7558 - mae: 33234.4141 - val_loss: 23.6570 - val_mae: 51032.1406 - 642ms/epoch - 1ms/step\n",
            "Epoch 352/500\n",
            "479/479 - 1s - loss: 15.7652 - mae: 33303.6836 - val_loss: 23.6588 - val_mae: 52287.7891 - 670ms/epoch - 1ms/step\n",
            "Epoch 353/500\n",
            "479/479 - 1s - loss: 15.7098 - mae: 33082.5781 - val_loss: 23.9138 - val_mae: 50330.8086 - 640ms/epoch - 1ms/step\n",
            "Epoch 354/500\n",
            "479/479 - 1s - loss: 15.7333 - mae: 33262.2773 - val_loss: 23.6204 - val_mae: 50570.0273 - 646ms/epoch - 1ms/step\n",
            "Epoch 355/500\n",
            "479/479 - 1s - loss: 15.7529 - mae: 33236.4219 - val_loss: 23.3150 - val_mae: 51894.2344 - 661ms/epoch - 1ms/step\n",
            "Epoch 356/500\n",
            "479/479 - 1s - loss: 15.7523 - mae: 33210.1953 - val_loss: 24.1166 - val_mae: 49985.0859 - 673ms/epoch - 1ms/step\n",
            "Epoch 357/500\n",
            "479/479 - 1s - loss: 15.7279 - mae: 33124.3867 - val_loss: 23.9709 - val_mae: 49370.6641 - 641ms/epoch - 1ms/step\n",
            "Epoch 358/500\n",
            "479/479 - 1s - loss: 15.6874 - mae: 33104.0312 - val_loss: 23.8480 - val_mae: 51631.5000 - 653ms/epoch - 1ms/step\n",
            "Epoch 359/500\n",
            "479/479 - 1s - loss: 15.6978 - mae: 33168.4297 - val_loss: 23.9797 - val_mae: 49924.8750 - 659ms/epoch - 1ms/step\n",
            "Epoch 360/500\n",
            "479/479 - 1s - loss: 15.7156 - mae: 33246.2461 - val_loss: 23.3939 - val_mae: 50344.0508 - 706ms/epoch - 1ms/step\n",
            "Epoch 361/500\n",
            "479/479 - 1s - loss: 15.6778 - mae: 33093.8086 - val_loss: 23.2221 - val_mae: 50131.6484 - 904ms/epoch - 2ms/step\n",
            "Epoch 362/500\n",
            "479/479 - 1s - loss: 15.7056 - mae: 33170.0312 - val_loss: 23.3304 - val_mae: 49891.2930 - 826ms/epoch - 2ms/step\n",
            "Epoch 363/500\n",
            "479/479 - 1s - loss: 15.7084 - mae: 33179.3555 - val_loss: 23.3832 - val_mae: 50578.6016 - 679ms/epoch - 1ms/step\n",
            "Epoch 364/500\n",
            "479/479 - 1s - loss: 15.6587 - mae: 33043.0664 - val_loss: 23.4158 - val_mae: 48357.4805 - 667ms/epoch - 1ms/step\n",
            "Epoch 365/500\n",
            "479/479 - 1s - loss: 15.6979 - mae: 33149.5977 - val_loss: 23.3933 - val_mae: 50301.3125 - 663ms/epoch - 1ms/step\n",
            "Epoch 366/500\n",
            "479/479 - 1s - loss: 15.6949 - mae: 33148.6914 - val_loss: 23.5294 - val_mae: 52845.0078 - 668ms/epoch - 1ms/step\n",
            "Epoch 367/500\n",
            "479/479 - 1s - loss: 15.7348 - mae: 33196.5430 - val_loss: 23.8100 - val_mae: 52579.6172 - 646ms/epoch - 1ms/step\n",
            "Epoch 368/500\n",
            "479/479 - 1s - loss: 15.6875 - mae: 33082.2812 - val_loss: 24.2428 - val_mae: 48686.1680 - 668ms/epoch - 1ms/step\n",
            "Epoch 369/500\n",
            "479/479 - 1s - loss: 15.6571 - mae: 33077.7461 - val_loss: 23.3068 - val_mae: 49139.0156 - 686ms/epoch - 1ms/step\n",
            "Epoch 370/500\n",
            "479/479 - 1s - loss: 15.6310 - mae: 33012.9062 - val_loss: 23.4742 - val_mae: 52464.0742 - 650ms/epoch - 1ms/step\n",
            "Epoch 371/500\n",
            "479/479 - 1s - loss: 15.6533 - mae: 33100.9180 - val_loss: 23.5659 - val_mae: 48854.8711 - 865ms/epoch - 2ms/step\n",
            "Epoch 372/500\n",
            "479/479 - 1s - loss: 15.6676 - mae: 33095.9883 - val_loss: 23.7133 - val_mae: 48710.5742 - 668ms/epoch - 1ms/step\n",
            "Epoch 373/500\n",
            "479/479 - 1s - loss: 15.6205 - mae: 32964.6445 - val_loss: 22.7286 - val_mae: 48946.4648 - 670ms/epoch - 1ms/step\n",
            "Epoch 374/500\n",
            "479/479 - 1s - loss: 15.6027 - mae: 32975.2070 - val_loss: 23.2698 - val_mae: 51425.9609 - 630ms/epoch - 1ms/step\n",
            "Epoch 375/500\n",
            "479/479 - 1s - loss: 15.6120 - mae: 33081.2070 - val_loss: 23.1616 - val_mae: 48393.6875 - 669ms/epoch - 1ms/step\n",
            "Epoch 376/500\n",
            "479/479 - 1s - loss: 15.6541 - mae: 33038.8516 - val_loss: 23.5688 - val_mae: 47401.0117 - 669ms/epoch - 1ms/step\n",
            "Epoch 377/500\n",
            "479/479 - 1s - loss: 15.6028 - mae: 33004.6914 - val_loss: 23.1769 - val_mae: 50259.7227 - 804ms/epoch - 2ms/step\n",
            "Epoch 378/500\n",
            "479/479 - 1s - loss: 15.6191 - mae: 33052.4258 - val_loss: 23.0677 - val_mae: 48605.4102 - 972ms/epoch - 2ms/step\n",
            "Epoch 379/500\n",
            "479/479 - 1s - loss: 15.6524 - mae: 33002.1992 - val_loss: 23.2690 - val_mae: 48790.8203 - 717ms/epoch - 1ms/step\n",
            "Epoch 380/500\n",
            "479/479 - 1s - loss: 15.6003 - mae: 33024.2852 - val_loss: 23.2131 - val_mae: 51416.7812 - 664ms/epoch - 1ms/step\n",
            "Epoch 381/500\n",
            "479/479 - 1s - loss: 15.6159 - mae: 33003.2266 - val_loss: 23.1407 - val_mae: 49942.1055 - 651ms/epoch - 1ms/step\n",
            "Epoch 382/500\n",
            "479/479 - 1s - loss: 15.5943 - mae: 32985.1992 - val_loss: 23.1112 - val_mae: 48046.8555 - 679ms/epoch - 1ms/step\n",
            "Epoch 383/500\n",
            "479/479 - 1s - loss: 15.6202 - mae: 32918.1328 - val_loss: 23.0885 - val_mae: 50101.4883 - 645ms/epoch - 1ms/step\n",
            "Epoch 384/500\n",
            "479/479 - 1s - loss: 15.5732 - mae: 32881.4102 - val_loss: 23.4829 - val_mae: 49008.3906 - 672ms/epoch - 1ms/step\n",
            "Epoch 385/500\n",
            "479/479 - 1s - loss: 15.5659 - mae: 32891.0820 - val_loss: 22.7590 - val_mae: 49039.7500 - 680ms/epoch - 1ms/step\n",
            "Epoch 386/500\n",
            "479/479 - 1s - loss: 15.6082 - mae: 33011.3750 - val_loss: 23.6882 - val_mae: 49850.1328 - 659ms/epoch - 1ms/step\n",
            "Epoch 387/500\n",
            "479/479 - 1s - loss: 15.5368 - mae: 32896.6250 - val_loss: 22.9608 - val_mae: 48380.8672 - 666ms/epoch - 1ms/step\n",
            "Epoch 388/500\n",
            "479/479 - 1s - loss: 15.5554 - mae: 32907.4531 - val_loss: 22.9134 - val_mae: 48910.0625 - 668ms/epoch - 1ms/step\n",
            "Epoch 389/500\n",
            "479/479 - 1s - loss: 15.5571 - mae: 32871.8320 - val_loss: 23.3371 - val_mae: 49483.9258 - 666ms/epoch - 1ms/step\n",
            "Epoch 390/500\n",
            "479/479 - 1s - loss: 15.5374 - mae: 32837.5312 - val_loss: 23.0752 - val_mae: 49591.9766 - 656ms/epoch - 1ms/step\n",
            "Epoch 391/500\n",
            "479/479 - 1s - loss: 15.5239 - mae: 32826.4766 - val_loss: 22.8234 - val_mae: 48094.0312 - 687ms/epoch - 1ms/step\n",
            "Epoch 392/500\n",
            "479/479 - 1s - loss: 15.5579 - mae: 32927.6836 - val_loss: 22.9176 - val_mae: 51579.6562 - 652ms/epoch - 1ms/step\n",
            "Epoch 393/500\n",
            "479/479 - 1s - loss: 15.5661 - mae: 32845.4570 - val_loss: 22.8605 - val_mae: 49776.5938 - 659ms/epoch - 1ms/step\n",
            "Epoch 394/500\n",
            "479/479 - 1s - loss: 15.5067 - mae: 32804.0508 - val_loss: 22.7844 - val_mae: 49721.1289 - 855ms/epoch - 2ms/step\n",
            "Epoch 395/500\n",
            "479/479 - 1s - loss: 15.5516 - mae: 32836.7305 - val_loss: 23.3063 - val_mae: 47510.3633 - 918ms/epoch - 2ms/step\n",
            "Epoch 396/500\n",
            "479/479 - 1s - loss: 15.5071 - mae: 32838.0547 - val_loss: 22.9619 - val_mae: 49553.9570 - 707ms/epoch - 1ms/step\n",
            "Epoch 397/500\n",
            "479/479 - 1s - loss: 15.5317 - mae: 32858.0273 - val_loss: 22.8895 - val_mae: 49651.4492 - 633ms/epoch - 1ms/step\n",
            "Epoch 398/500\n",
            "479/479 - 1s - loss: 15.5401 - mae: 32811.2344 - val_loss: 23.1896 - val_mae: 53475.0078 - 661ms/epoch - 1ms/step\n",
            "Epoch 399/500\n",
            "479/479 - 1s - loss: 15.5027 - mae: 32791.0117 - val_loss: 22.3523 - val_mae: 48351.4727 - 701ms/epoch - 1ms/step\n",
            "Epoch 400/500\n",
            "479/479 - 1s - loss: 15.5364 - mae: 32881.1836 - val_loss: 23.0231 - val_mae: 50279.5859 - 662ms/epoch - 1ms/step\n",
            "Epoch 401/500\n",
            "479/479 - 1s - loss: 15.5155 - mae: 32819.1328 - val_loss: 22.7592 - val_mae: 50073.2188 - 675ms/epoch - 1ms/step\n",
            "Epoch 402/500\n",
            "479/479 - 1s - loss: 15.4864 - mae: 32781.5117 - val_loss: 22.8202 - val_mae: 48687.8555 - 683ms/epoch - 1ms/step\n",
            "Epoch 403/500\n",
            "479/479 - 1s - loss: 15.4959 - mae: 32738.6875 - val_loss: 23.0112 - val_mae: 47672.6914 - 643ms/epoch - 1ms/step\n",
            "Epoch 404/500\n",
            "479/479 - 1s - loss: 15.4770 - mae: 32688.8672 - val_loss: 23.1218 - val_mae: 52135.9023 - 647ms/epoch - 1ms/step\n",
            "Epoch 405/500\n",
            "479/479 - 1s - loss: 15.5177 - mae: 32768.7852 - val_loss: 22.6264 - val_mae: 49484.5742 - 640ms/epoch - 1ms/step\n",
            "Epoch 406/500\n",
            "479/479 - 1s - loss: 15.4936 - mae: 32746.8281 - val_loss: 22.7698 - val_mae: 48809.5117 - 665ms/epoch - 1ms/step\n",
            "Epoch 407/500\n",
            "479/479 - 1s - loss: 15.4713 - mae: 32721.0215 - val_loss: 22.6719 - val_mae: 50326.4688 - 704ms/epoch - 1ms/step\n",
            "Epoch 408/500\n",
            "479/479 - 1s - loss: 15.4669 - mae: 32759.0977 - val_loss: 23.0357 - val_mae: 47217.2656 - 666ms/epoch - 1ms/step\n",
            "Epoch 409/500\n",
            "479/479 - 1s - loss: 15.4443 - mae: 32664.6113 - val_loss: 23.3697 - val_mae: 53181.3242 - 632ms/epoch - 1ms/step\n",
            "Epoch 410/500\n",
            "479/479 - 1s - loss: 15.4003 - mae: 32614.8809 - val_loss: 22.7240 - val_mae: 50467.6523 - 648ms/epoch - 1ms/step\n",
            "Epoch 411/500\n",
            "479/479 - 1s - loss: 15.4963 - mae: 32782.2148 - val_loss: 22.7042 - val_mae: 47375.7930 - 884ms/epoch - 2ms/step\n",
            "Epoch 412/500\n",
            "479/479 - 1s - loss: 15.4773 - mae: 32698.1777 - val_loss: 22.8135 - val_mae: 50886.5078 - 965ms/epoch - 2ms/step\n",
            "Epoch 413/500\n",
            "479/479 - 1s - loss: 15.4256 - mae: 32695.9531 - val_loss: 22.5832 - val_mae: 49887.3594 - 657ms/epoch - 1ms/step\n",
            "Epoch 414/500\n",
            "479/479 - 1s - loss: 15.4575 - mae: 32699.2539 - val_loss: 23.0681 - val_mae: 52591.6719 - 649ms/epoch - 1ms/step\n",
            "Epoch 415/500\n",
            "479/479 - 1s - loss: 15.5228 - mae: 32789.3438 - val_loss: 22.8644 - val_mae: 49409.7656 - 688ms/epoch - 1ms/step\n",
            "Epoch 416/500\n",
            "479/479 - 1s - loss: 15.4113 - mae: 32572.5859 - val_loss: 22.5808 - val_mae: 50199.1289 - 646ms/epoch - 1ms/step\n",
            "Epoch 417/500\n",
            "479/479 - 1s - loss: 15.4106 - mae: 32597.8418 - val_loss: 22.7570 - val_mae: 48176.4766 - 653ms/epoch - 1ms/step\n",
            "Epoch 418/500\n",
            "479/479 - 1s - loss: 15.4430 - mae: 32589.6738 - val_loss: 22.5664 - val_mae: 47074.7344 - 678ms/epoch - 1ms/step\n",
            "Epoch 419/500\n",
            "479/479 - 1s - loss: 15.4626 - mae: 32733.9531 - val_loss: 22.3189 - val_mae: 49299.2188 - 675ms/epoch - 1ms/step\n",
            "Epoch 420/500\n",
            "479/479 - 1s - loss: 15.4128 - mae: 32623.6387 - val_loss: 22.4064 - val_mae: 48523.6523 - 669ms/epoch - 1ms/step\n",
            "Epoch 421/500\n",
            "479/479 - 1s - loss: 15.4692 - mae: 32717.7930 - val_loss: 22.9558 - val_mae: 47920.5547 - 666ms/epoch - 1ms/step\n",
            "Epoch 422/500\n",
            "479/479 - 1s - loss: 15.4033 - mae: 32595.0918 - val_loss: 22.6498 - val_mae: 49429.3477 - 657ms/epoch - 1ms/step\n",
            "Epoch 423/500\n",
            "479/479 - 1s - loss: 15.4392 - mae: 32695.1602 - val_loss: 22.6452 - val_mae: 48016.5273 - 707ms/epoch - 1ms/step\n",
            "Epoch 424/500\n",
            "479/479 - 1s - loss: 15.3829 - mae: 32543.2715 - val_loss: 22.6679 - val_mae: 48505.3516 - 661ms/epoch - 1ms/step\n",
            "Epoch 425/500\n",
            "479/479 - 1s - loss: 15.4060 - mae: 32566.9277 - val_loss: 22.5994 - val_mae: 50961.2500 - 666ms/epoch - 1ms/step\n",
            "Epoch 426/500\n",
            "479/479 - 1s - loss: 15.3725 - mae: 32575.1777 - val_loss: 22.5061 - val_mae: 50330.3945 - 648ms/epoch - 1ms/step\n",
            "Epoch 427/500\n",
            "479/479 - 1s - loss: 15.3728 - mae: 32563.1797 - val_loss: 22.4135 - val_mae: 47636.3633 - 667ms/epoch - 1ms/step\n",
            "Epoch 428/500\n",
            "479/479 - 1s - loss: 15.4286 - mae: 32626.7148 - val_loss: 23.0634 - val_mae: 52860.4766 - 982ms/epoch - 2ms/step\n",
            "Epoch 429/500\n",
            "479/479 - 1s - loss: 15.3958 - mae: 32604.2227 - val_loss: 22.4596 - val_mae: 49235.7227 - 841ms/epoch - 2ms/step\n",
            "Epoch 430/500\n",
            "479/479 - 1s - loss: 15.3552 - mae: 32526.1367 - val_loss: 22.6831 - val_mae: 47059.0547 - 649ms/epoch - 1ms/step\n",
            "Epoch 431/500\n",
            "479/479 - 1s - loss: 15.3467 - mae: 32530.5684 - val_loss: 22.4874 - val_mae: 48108.4297 - 643ms/epoch - 1ms/step\n",
            "Epoch 432/500\n",
            "479/479 - 1s - loss: 15.3866 - mae: 32541.2871 - val_loss: 22.4048 - val_mae: 48958.5078 - 667ms/epoch - 1ms/step\n",
            "Epoch 433/500\n",
            "479/479 - 1s - loss: 15.3395 - mae: 32495.8906 - val_loss: 22.3808 - val_mae: 48464.3359 - 692ms/epoch - 1ms/step\n",
            "Epoch 434/500\n",
            "479/479 - 1s - loss: 15.3447 - mae: 32500.9043 - val_loss: 21.9840 - val_mae: 47189.8008 - 679ms/epoch - 1ms/step\n",
            "Epoch 435/500\n",
            "479/479 - 1s - loss: 15.3385 - mae: 32522.3711 - val_loss: 22.9992 - val_mae: 51634.3203 - 655ms/epoch - 1ms/step\n",
            "Epoch 436/500\n",
            "479/479 - 1s - loss: 15.3573 - mae: 32428.7461 - val_loss: 22.8026 - val_mae: 49257.4570 - 655ms/epoch - 1ms/step\n",
            "Epoch 437/500\n",
            "479/479 - 1s - loss: 15.4030 - mae: 32517.6680 - val_loss: 22.3293 - val_mae: 49146.8438 - 675ms/epoch - 1ms/step\n",
            "Epoch 438/500\n",
            "479/479 - 1s - loss: 15.3351 - mae: 32473.4434 - val_loss: 22.4024 - val_mae: 49890.3516 - 638ms/epoch - 1ms/step\n",
            "Epoch 439/500\n",
            "479/479 - 1s - loss: 15.3272 - mae: 32497.8008 - val_loss: 22.4987 - val_mae: 48800.7969 - 656ms/epoch - 1ms/step\n",
            "Epoch 440/500\n",
            "479/479 - 1s - loss: 15.3360 - mae: 32482.3574 - val_loss: 22.3013 - val_mae: 47599.5312 - 672ms/epoch - 1ms/step\n",
            "Epoch 441/500\n",
            "479/479 - 1s - loss: 15.2952 - mae: 32376.2441 - val_loss: 22.2375 - val_mae: 48319.8711 - 663ms/epoch - 1ms/step\n",
            "Epoch 442/500\n",
            "479/479 - 1s - loss: 15.3388 - mae: 32486.6172 - val_loss: 22.5527 - val_mae: 50331.0781 - 671ms/epoch - 1ms/step\n",
            "Epoch 443/500\n",
            "479/479 - 1s - loss: 15.2960 - mae: 32430.0410 - val_loss: 22.2059 - val_mae: 48766.5430 - 667ms/epoch - 1ms/step\n",
            "Epoch 444/500\n",
            "479/479 - 1s - loss: 15.2989 - mae: 32423.1797 - val_loss: 22.7055 - val_mae: 49752.9961 - 789ms/epoch - 2ms/step\n",
            "Epoch 445/500\n",
            "479/479 - 1s - loss: 15.2565 - mae: 32256.0352 - val_loss: 23.2830 - val_mae: 53028.2344 - 886ms/epoch - 2ms/step\n",
            "Epoch 446/500\n",
            "479/479 - 1s - loss: 15.3013 - mae: 32373.0879 - val_loss: 23.0716 - val_mae: 52026.1367 - 830ms/epoch - 2ms/step\n",
            "Epoch 447/500\n",
            "479/479 - 1s - loss: 15.3369 - mae: 32481.5469 - val_loss: 22.3010 - val_mae: 49461.1953 - 674ms/epoch - 1ms/step\n",
            "Epoch 448/500\n",
            "479/479 - 1s - loss: 15.2982 - mae: 32407.0762 - val_loss: 22.8962 - val_mae: 46294.9688 - 656ms/epoch - 1ms/step\n",
            "Epoch 449/500\n",
            "479/479 - 1s - loss: 15.3275 - mae: 32406.3262 - val_loss: 22.0847 - val_mae: 46802.3906 - 701ms/epoch - 1ms/step\n",
            "Epoch 450/500\n",
            "479/479 - 1s - loss: 15.3277 - mae: 32441.2305 - val_loss: 22.3693 - val_mae: 48942.3125 - 663ms/epoch - 1ms/step\n",
            "Epoch 451/500\n",
            "479/479 - 1s - loss: 15.3264 - mae: 32465.5977 - val_loss: 22.9785 - val_mae: 52254.7148 - 680ms/epoch - 1ms/step\n",
            "Epoch 452/500\n",
            "479/479 - 1s - loss: 15.3365 - mae: 32377.7871 - val_loss: 22.1470 - val_mae: 49394.9102 - 665ms/epoch - 1ms/step\n",
            "Epoch 453/500\n",
            "479/479 - 1s - loss: 15.2689 - mae: 32404.5352 - val_loss: 22.2937 - val_mae: 47386.6719 - 665ms/epoch - 1ms/step\n",
            "Epoch 454/500\n",
            "479/479 - 1s - loss: 15.2794 - mae: 32351.8633 - val_loss: 22.3146 - val_mae: 47078.5664 - 669ms/epoch - 1ms/step\n",
            "Epoch 455/500\n",
            "479/479 - 1s - loss: 15.2319 - mae: 32326.3984 - val_loss: 21.7676 - val_mae: 47363.4297 - 666ms/epoch - 1ms/step\n",
            "Epoch 456/500\n",
            "479/479 - 1s - loss: 15.2786 - mae: 32362.3848 - val_loss: 22.7208 - val_mae: 50895.0625 - 658ms/epoch - 1ms/step\n",
            "Epoch 457/500\n",
            "479/479 - 1s - loss: 15.2964 - mae: 32346.6777 - val_loss: 22.8400 - val_mae: 51415.7617 - 655ms/epoch - 1ms/step\n",
            "Epoch 458/500\n",
            "479/479 - 1s - loss: 15.2796 - mae: 32378.6016 - val_loss: 22.4608 - val_mae: 49998.1992 - 673ms/epoch - 1ms/step\n",
            "Epoch 459/500\n",
            "479/479 - 1s - loss: 15.2646 - mae: 32306.8691 - val_loss: 22.6241 - val_mae: 50535.4336 - 631ms/epoch - 1ms/step\n",
            "Epoch 460/500\n",
            "479/479 - 1s - loss: 15.2410 - mae: 32325.4590 - val_loss: 22.2656 - val_mae: 48889.3789 - 639ms/epoch - 1ms/step\n",
            "Epoch 461/500\n",
            "479/479 - 1s - loss: 15.2518 - mae: 32227.8359 - val_loss: 22.7097 - val_mae: 51266.4375 - 755ms/epoch - 2ms/step\n",
            "Epoch 462/500\n",
            "479/479 - 1s - loss: 15.3288 - mae: 32444.6680 - val_loss: 22.5656 - val_mae: 49910.4570 - 897ms/epoch - 2ms/step\n",
            "Epoch 463/500\n",
            "479/479 - 1s - loss: 15.2513 - mae: 32263.9180 - val_loss: 23.0461 - val_mae: 52269.2109 - 802ms/epoch - 2ms/step\n",
            "Epoch 464/500\n",
            "479/479 - 1s - loss: 15.2043 - mae: 32237.7480 - val_loss: 22.5109 - val_mae: 50047.0273 - 660ms/epoch - 1ms/step\n",
            "Epoch 465/500\n",
            "479/479 - 1s - loss: 15.2546 - mae: 32312.8516 - val_loss: 22.7504 - val_mae: 51501.8242 - 664ms/epoch - 1ms/step\n",
            "Epoch 466/500\n",
            "479/479 - 1s - loss: 15.2268 - mae: 32291.8770 - val_loss: 23.0841 - val_mae: 52326.5312 - 653ms/epoch - 1ms/step\n",
            "Epoch 467/500\n",
            "479/479 - 1s - loss: 15.2459 - mae: 32336.7246 - val_loss: 23.3877 - val_mae: 53824.8945 - 642ms/epoch - 1ms/step\n",
            "Epoch 468/500\n",
            "479/479 - 1s - loss: 15.2621 - mae: 32238.8906 - val_loss: 22.4565 - val_mae: 48708.1562 - 672ms/epoch - 1ms/step\n",
            "Epoch 469/500\n",
            "479/479 - 1s - loss: 15.2652 - mae: 32251.6738 - val_loss: 23.1155 - val_mae: 53339.4297 - 645ms/epoch - 1ms/step\n",
            "Epoch 470/500\n",
            "479/479 - 1s - loss: 15.2011 - mae: 32254.0898 - val_loss: 22.9069 - val_mae: 51639.5312 - 660ms/epoch - 1ms/step\n",
            "Epoch 471/500\n",
            "479/479 - 1s - loss: 15.2616 - mae: 32310.7363 - val_loss: 22.1163 - val_mae: 49703.6758 - 666ms/epoch - 1ms/step\n",
            "Epoch 472/500\n",
            "479/479 - 1s - loss: 15.1933 - mae: 32167.1465 - val_loss: 22.5500 - val_mae: 47653.4023 - 653ms/epoch - 1ms/step\n",
            "Epoch 473/500\n",
            "479/479 - 1s - loss: 15.2153 - mae: 32265.3535 - val_loss: 21.9582 - val_mae: 46510.3281 - 649ms/epoch - 1ms/step\n",
            "Epoch 474/500\n",
            "479/479 - 1s - loss: 15.2367 - mae: 32296.1777 - val_loss: 22.4335 - val_mae: 49155.3125 - 661ms/epoch - 1ms/step\n",
            "Epoch 475/500\n",
            "479/479 - 1s - loss: 15.2032 - mae: 32199.9727 - val_loss: 23.2064 - val_mae: 52569.8672 - 670ms/epoch - 1ms/step\n",
            "Epoch 476/500\n",
            "479/479 - 1s - loss: 15.1850 - mae: 32232.0195 - val_loss: 22.4751 - val_mae: 48949.6367 - 647ms/epoch - 1ms/step\n",
            "Epoch 477/500\n",
            "479/479 - 1s - loss: 15.1685 - mae: 32187.7461 - val_loss: 22.9540 - val_mae: 51780.0898 - 664ms/epoch - 1ms/step\n",
            "Epoch 478/500\n",
            "479/479 - 1s - loss: 15.1626 - mae: 32153.6055 - val_loss: 22.2298 - val_mae: 49175.1016 - 750ms/epoch - 2ms/step\n",
            "Epoch 479/500\n",
            "479/479 - 1s - loss: 15.1700 - mae: 32200.8965 - val_loss: 22.1785 - val_mae: 47517.8242 - 912ms/epoch - 2ms/step\n",
            "Epoch 480/500\n",
            "479/479 - 1s - loss: 15.2176 - mae: 32230.3809 - val_loss: 22.1516 - val_mae: 49576.7305 - 817ms/epoch - 2ms/step\n",
            "Epoch 481/500\n",
            "479/479 - 1s - loss: 15.1990 - mae: 32181.2480 - val_loss: 22.6050 - val_mae: 51114.0391 - 669ms/epoch - 1ms/step\n",
            "Epoch 482/500\n",
            "479/479 - 1s - loss: 15.1896 - mae: 32169.2461 - val_loss: 22.4672 - val_mae: 47127.1719 - 657ms/epoch - 1ms/step\n",
            "Epoch 483/500\n",
            "479/479 - 1s - loss: 15.2110 - mae: 32240.8027 - val_loss: 22.7150 - val_mae: 51098.7266 - 639ms/epoch - 1ms/step\n",
            "Epoch 484/500\n",
            "479/479 - 1s - loss: 15.1943 - mae: 32291.2285 - val_loss: 22.3930 - val_mae: 49867.3516 - 686ms/epoch - 1ms/step\n",
            "Epoch 485/500\n",
            "479/479 - 1s - loss: 15.1855 - mae: 32140.2891 - val_loss: 21.9551 - val_mae: 48169.2031 - 661ms/epoch - 1ms/step\n",
            "Epoch 486/500\n",
            "479/479 - 1s - loss: 15.2045 - mae: 32207.2324 - val_loss: 22.5156 - val_mae: 50771.1758 - 666ms/epoch - 1ms/step\n",
            "Epoch 487/500\n",
            "479/479 - 1s - loss: 15.2091 - mae: 32232.5117 - val_loss: 22.6793 - val_mae: 50393.6953 - 656ms/epoch - 1ms/step\n",
            "Epoch 488/500\n",
            "479/479 - 1s - loss: 15.2208 - mae: 32152.8047 - val_loss: 21.7287 - val_mae: 46281.2969 - 676ms/epoch - 1ms/step\n",
            "Epoch 489/500\n",
            "479/479 - 1s - loss: 15.1705 - mae: 32092.4941 - val_loss: 22.2235 - val_mae: 48746.3984 - 656ms/epoch - 1ms/step\n",
            "Epoch 490/500\n",
            "479/479 - 1s - loss: 15.1636 - mae: 32183.6328 - val_loss: 21.9575 - val_mae: 47609.0977 - 677ms/epoch - 1ms/step\n",
            "Epoch 491/500\n",
            "479/479 - 1s - loss: 15.1542 - mae: 32132.2910 - val_loss: 22.2618 - val_mae: 48505.8828 - 633ms/epoch - 1ms/step\n",
            "Epoch 492/500\n",
            "479/479 - 1s - loss: 15.1635 - mae: 32097.3418 - val_loss: 22.8680 - val_mae: 51981.7969 - 657ms/epoch - 1ms/step\n",
            "Epoch 493/500\n",
            "479/479 - 1s - loss: 15.1224 - mae: 32020.3047 - val_loss: 22.0859 - val_mae: 47537.0312 - 690ms/epoch - 1ms/step\n",
            "Epoch 494/500\n",
            "479/479 - 1s - loss: 15.1539 - mae: 32142.3262 - val_loss: 22.6617 - val_mae: 51342.5508 - 635ms/epoch - 1ms/step\n",
            "Epoch 495/500\n",
            "479/479 - 1s - loss: 15.1157 - mae: 32066.8164 - val_loss: 22.8124 - val_mae: 51934.8906 - 766ms/epoch - 2ms/step\n",
            "Epoch 496/500\n",
            "479/479 - 1s - loss: 15.1397 - mae: 32030.5508 - val_loss: 22.7335 - val_mae: 50891.2852 - 968ms/epoch - 2ms/step\n",
            "Epoch 497/500\n",
            "479/479 - 1s - loss: 15.1091 - mae: 32027.9512 - val_loss: 22.6237 - val_mae: 51034.2383 - 738ms/epoch - 2ms/step\n",
            "Epoch 498/500\n",
            "479/479 - 1s - loss: 15.1267 - mae: 32011.8398 - val_loss: 22.3124 - val_mae: 49335.3125 - 654ms/epoch - 1ms/step\n",
            "Epoch 499/500\n",
            "479/479 - 1s - loss: 15.1514 - mae: 32089.8105 - val_loss: 22.0549 - val_mae: 48540.4609 - 639ms/epoch - 1ms/step\n",
            "Epoch 500/500\n",
            "479/479 - 1s - loss: 15.1656 - mae: 32142.1445 - val_loss: 22.2321 - val_mae: 49471.7070 - 689ms/epoch - 1ms/step\n"
          ]
        }
      ]
    },
    {
      "cell_type": "markdown",
      "metadata": {
        "id": "m_6XDRknyO8Q"
      },
      "source": [
        "## Визуализация качества обучения"
      ]
    },
    {
      "cell_type": "code",
      "metadata": {
        "id": "k-VXHvPjySTw",
        "outputId": "b304082e-498c-4e70-884f-b6781d462c74",
        "colab": {
          "base_uri": "https://localhost:8080/",
          "height": 449
        }
      },
      "source": [
        "plt.plot(history.history['mae'], \n",
        "         label='Средняя абсолютная ошибка на обучающем наборе')\n",
        "plt.plot(history.history['val_mae'], \n",
        "         label='Средняя абсолютная ошибка на проверочном наборе')\n",
        "plt.xlabel('Эпоха обучения')\n",
        "plt.ylabel('Средняя абсолютная ошибка')\n",
        "plt.legend()\n",
        "plt.show()"
      ],
      "execution_count": 74,
      "outputs": [
        {
          "output_type": "display_data",
          "data": {
            "text/plain": [
              "<Figure size 640x480 with 1 Axes>"
            ],
            "image/png": "[encoded data removed]"
          },
          "metadata": {}
        }
      ]
    },
    {
      "cell_type": "markdown",
      "metadata": {
        "id": "s4kt3k8sxNq6"
      },
      "source": [
        "## Проверяем работу модели на тестовом наборе данных"
      ]
    },
    {
      "cell_type": "code",
      "metadata": {
        "id": "W4zh-jfuxUJo",
        "outputId": "d4f82d8e-0882-4343-801c-2d5fd0ef1ee2",
        "colab": {
          "base_uri": "https://localhost:8080/"
        }
      },
      "source": [
        "scores = model.evaluate(x_test, y_test, verbose=1)"
      ],
      "execution_count": 75,
      "outputs": [
        {
          "output_type": "stream",
          "name": "stdout",
          "text": [
            "94/94 [==============================] - 0s 1ms/step - loss: 17.4154 - mae: 35923.0273\n"
          ]
        }
      ]
    },
    {
      "cell_type": "code",
      "metadata": {
        "id": "EhAMQvdDx_pA",
        "outputId": "6fbdd893-141e-45ce-dd5a-90815816d03e",
        "colab": {
          "base_uri": "https://localhost:8080/"
        }
      },
      "source": [
        "print(\"Средняя абсолютная ошибка на тестовых данных:\", round(scores[1], 4))"
      ],
      "execution_count": 76,
      "outputs": [
        {
          "output_type": "stream",
          "name": "stdout",
          "text": [
            "Средняя абсолютная ошибка на тестовых данных: 35923.0273\n"
          ]
        }
      ]
    },
    {
      "cell_type": "markdown",
      "metadata": {
        "id": "UDHMw_dEH7_0"
      },
      "source": [
        "## Используем модель для предсказаний"
      ]
    },
    {
      "cell_type": "markdown",
      "metadata": {
        "id": "pHOIK7qaOns1"
      },
      "source": [
        "**Выполняем предсказание для тестовой выборки**"
      ]
    },
    {
      "cell_type": "code",
      "metadata": {
        "id": "5LYrptorOjPe",
        "colab": {
          "base_uri": "https://localhost:8080/"
        },
        "outputId": "adc4eee7-c8c8-42e1-daca-29b3e4476107"
      },
      "source": [
        "pred = model.predict(x_test).flatten()"
      ],
      "execution_count": 77,
      "outputs": [
        {
          "output_type": "stream",
          "name": "stdout",
          "text": [
            "94/94 [==============================] - 0s 897us/step\n"
          ]
        }
      ]
    },
    {
      "cell_type": "code",
      "metadata": {
        "id": "_D55LA1i7E4J",
        "outputId": "c9b16fdb-f872-41bc-c240-416060d73b89",
        "colab": {
          "base_uri": "https://localhost:8080/"
        }
      },
      "source": [
        "print(pred)"
      ],
      "execution_count": 78,
      "outputs": [
        {
          "output_type": "stream",
          "name": "stdout",
          "text": [
            "[412764.97 207725.38 284914.03 ...  74461.26  62465.62 466076.22]\n"
          ]
        }
      ]
    },
    {
      "cell_type": "markdown",
      "metadata": {
        "id": "TTw_JA5TOiYF"
      },
      "source": [
        "**Печатаем примеры результатов**"
      ]
    },
    {
      "cell_type": "code",
      "metadata": {
        "id": "L5KdJducOuwt",
        "outputId": "b249d86e-26d4-44fe-9c94-b9c9f54d6697",
        "colab": {
          "base_uri": "https://localhost:8080/"
        }
      },
      "source": [
        "test_index=5\n",
        "print(\"Предсказанная стоимость:\", pred[test_index], \", правильная стоимость:\", y_test[test_index])"
      ],
      "execution_count": 79,
      "outputs": [
        {
          "output_type": "stream",
          "name": "stdout",
          "text": [
            "Предсказанная стоимость: 52187.68 , правильная стоимость: 67000.0\n"
          ]
        }
      ]
    },
    {
      "cell_type": "markdown",
      "metadata": {
        "id": "JsOHd3RvChv0"
      },
      "source": [
        "## Визуализируем результаты предсказаний"
      ]
    },
    {
      "cell_type": "markdown",
      "metadata": {
        "id": "bf-IZgHpDQs0"
      },
      "source": [
        "График предсказаний"
      ]
    },
    {
      "cell_type": "code",
      "metadata": {
        "id": "eW4Jyk56CT4A",
        "colab": {
          "base_uri": "https://localhost:8080/",
          "height": 454
        },
        "outputId": "53999e5a-906d-4c4e-f215-e288fc41cdc9"
      },
      "source": [
        "plt.scatter(y_test, pred)\n",
        "plt.xlabel('Правильные значение, $1K')\n",
        "plt.ylabel('Предсказания, $1K')\n",
        "plt.axis('equal')\n",
        "plt.xlim(plt.xlim())\n",
        "plt.ylim(plt.ylim())\n",
        "plt.plot([-100, 100], [-100, 100])\n",
        "plt.show()"
      ],
      "execution_count": 80,
      "outputs": [
        {
          "output_type": "display_data",
          "data": {
            "text/plain": [
              "<Figure size 640x480 with 1 Axes>"
            ],
            "image/png": "[encoded data removed]"
          },
          "metadata": {}
        }
      ]
    },
    {
      "cell_type": "markdown",
      "metadata": {
        "id": "IjAxrbvLDsI-"
      },
      "source": [
        "Гистограмма ошибок"
      ]
    },
    {
      "cell_type": "code",
      "metadata": {
        "id": "K4SHKjI_DuaE",
        "colab": {
          "base_uri": "https://localhost:8080/",
          "height": 449
        },
        "outputId": "e54c7e66-530a-4dc2-92d9-d89e47fdd5ec"
      },
      "source": [
        "error = pred - y_test\n",
        "plt.hist(error, bins = 50)\n",
        "plt.xlabel(\"Значение ошибки, $1K\")\n",
        "plt.ylabel(\"Количество\")\n",
        "plt.show()"
      ],
      "execution_count": 81,
      "outputs": [
        {
          "output_type": "display_data",
          "data": {
            "text/plain": [
              "<Figure size 640x480 with 1 Axes>"
            ],
            "image/png": "[encoded data removed]"
          },
          "metadata": {}
        }
      ]
    }
  ]
}