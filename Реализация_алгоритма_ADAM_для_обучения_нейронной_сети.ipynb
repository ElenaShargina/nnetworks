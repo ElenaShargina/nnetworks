{
  "nbformat": 4,
  "nbformat_minor": 0,
  "metadata": {
    "colab": {
      "provenance": [],
      "authorship_tag": "ABX9TyMpJ8MFJaOEjORjWhtVAmsg",
      "include_colab_link": true
    },
    "kernelspec": {
      "name": "python3",
      "display_name": "Python 3"
    },
    "language_info": {
      "name": "python"
    }
  },
  "cells": [
    {
      "cell_type": "markdown",
      "metadata": {
        "id": "view-in-github",
        "colab_type": "text"
      },
      "source": [
        "<a href=\"https://colab.research.google.com/github/ElenaShargina/nnetworks/blob/main/%D0%A0%D0%B5%D0%B0%D0%BB%D0%B8%D0%B7%D0%B0%D1%86%D0%B8%D1%8F_%D0%B0%D0%BB%D0%B3%D0%BE%D1%80%D0%B8%D1%82%D0%BC%D0%B0_ADAM_%D0%B4%D0%BB%D1%8F_%D0%BE%D0%B1%D1%83%D1%87%D0%B5%D0%BD%D0%B8%D1%8F_%D0%BD%D0%B5%D0%B9%D1%80%D0%BE%D0%BD%D0%BD%D0%BE%D0%B9_%D1%81%D0%B5%D1%82%D0%B8.ipynb\" target=\"_parent\"><img src=\"https://colab.research.google.com/assets/colab-badge.svg\" alt=\"Open In Colab\"/></a>"
      ]
    },
    {
      "cell_type": "markdown",
      "source": [
        "Реализована работа алгоритма ADAM на примере трёхслойной нейронной сети.\n",
        "\n",
        "Функция активация - сигмоидальная.\n",
        "Корректировка весов происходит с помощью стохастического градиентного спуска (модификация ADAM).\n",
        "\n"
      ],
      "metadata": {
        "id": "H45sbZ0bP29n"
      }
    },
    {
      "cell_type": "markdown",
      "source": [
        "# Подготовка данных"
      ],
      "metadata": {
        "id": "epaVFpEuMga8"
      }
    },
    {
      "cell_type": "code",
      "execution_count": 112,
      "metadata": {
        "id": "zQ3tjILVMSCC"
      },
      "outputs": [],
      "source": [
        "# Импортируем необходимые пакеты\n",
        "import numpy as np\n",
        "import matplotlib.pyplot as plt\n",
        "# Зафиксируем генератор случайных чисел\n",
        "from numpy.random import seed\n",
        "seed(2020)"
      ]
    },
    {
      "cell_type": "code",
      "source": [
        "# количество элементов в обучающей выборке\n",
        "m = 17\n",
        "# величина шага\n",
        "h = 0.7\n",
        "# количество эпох без улучшения точности, после которого остановим поиск\n",
        "patience = 10\n",
        "# точность\n",
        "eps = 0.000001\n",
        "eps_func = 0.06\n",
        "\n",
        "# обучающая выборка\n",
        "dataX = np.array([\n",
        "    [0.1, 0.2, 0.3, 0.4],\n",
        "    [0.2, 0.3, 0.4, 0.5],\n",
        "    [0.3, 0.4, 0.5, 0.6],\n",
        "    [0.4, 0.5, 0.6, 0.7],\n",
        "    [0.5, 0.6, 0.7, 0.8],\n",
        "    [0.6, 0.7, 0.8, 0.9],\n",
        "    [0.7, 0.8, 0.9, 0],\n",
        "    [0.8, 0.9, 0, -0.1],\n",
        "    [0.9, 0, -0.1, -0.2],\n",
        "    [0, -0.1, -0.2, -0.3],\n",
        "    [-0.1, -0.2, -0.3, -0.4],\n",
        "    [-0.2, -0.3, -0.4, -0.5],\n",
        "    [-0.3, -0.4, -0.5, -0.6],\n",
        "    [-0.4, -0.5, -0.6, -0.7],\n",
        "    [-0.5, -0.6, -0.7, -0.8],\n",
        "    [-0.6, -0.7, -0.8, -0.9],\n",
        "    [-0.7, -0.8, -0.9, 0]\n",
        "])\n",
        "# правильные ответы к обучающей выборке\n",
        "dataY = np.array([1, 1.2, 1.3, 1.4, 1.5, 1.6, 1.7, 1.8, 1.9, 0, -1, -1.2, -1.3, -1.4, -1.5, -1.6, -1.7])\n"
      ],
      "metadata": {
        "id": "T8Kerm7lMukI"
      },
      "execution_count": 113,
      "outputs": []
    },
    {
      "cell_type": "markdown",
      "source": [
        "В сети будет три слоя:\n",
        "\n",
        "входной - 2 нейрона,\n",
        "\n",
        "скрытый - 2 нейрона,\n",
        "\n",
        "выходной - 1 нейрон.\n",
        "\n",
        "TODO: вставить схему сети\n",
        "\n",
        "Задаем первичные веса - какие-то маленькие значения."
      ],
      "metadata": {
        "id": "X5yMOPNdNZHH"
      }
    },
    {
      "cell_type": "code",
      "source": [
        "weights1 = np.array([\n",
        "    [0.01,0.02,0.03,0.04],\n",
        "    [0.05,0.06,0.07,0.08]\n",
        "                     ])\n",
        "\n",
        "weights2 = np.array([\n",
        "    [-0.01,-0.02],\n",
        "    [-0.03,-0.04]\n",
        "])\n",
        "weights3 = np.array([[-0.05,-0.06]])"
      ],
      "metadata": {
        "id": "CoStOmqPNcJL"
      },
      "execution_count": 114,
      "outputs": []
    },
    {
      "cell_type": "markdown",
      "source": [
        "# Задание функций"
      ],
      "metadata": {
        "id": "elXmifYsYuMa"
      }
    },
    {
      "cell_type": "markdown",
      "source": [
        "Функция активации - сигмоидная\n",
        "\n",
        "$\\phi(x) = \\frac{1}{1+e^{-x}}$"
      ],
      "metadata": {
        "id": "lh3KYYGdM0mh"
      }
    },
    {
      "cell_type": "code",
      "source": [
        "def sigmoid(x):\n",
        "    return 1 / (1 + np.exp(-x))"
      ],
      "metadata": {
        "id": "MA9jzl0JM_Vt"
      },
      "execution_count": 115,
      "outputs": []
    },
    {
      "cell_type": "markdown",
      "source": [
        "Производная от сигмоидной функции\n",
        "\n",
        "$ \\phi^\\prime(x) = \\frac{e^{-x}}{(1+e^{-x})^2}$"
      ],
      "metadata": {
        "id": "VAtWYWyGNDAz"
      }
    },
    {
      "cell_type": "code",
      "source": [
        "def diffsig(x): \n",
        "    return np.exp(-x)/(1+np.exp(-x))**2"
      ],
      "metadata": {
        "id": "c3-DU3vGNKTC"
      },
      "execution_count": 116,
      "outputs": []
    },
    {
      "cell_type": "markdown",
      "source": [
        "Для получения результатов работы первых двух слоёв вводим функцию активации их нейронов."
      ],
      "metadata": {
        "id": "y1GJFJxHvN_8"
      }
    },
    {
      "cell_type": "code",
      "source": [
        "def neuro_activate(weights,x):\n",
        "    return sigmoid(np.sum(weights*x))\n",
        "\n",
        "# производная фукции работы нейрона в первых двух слоях\n",
        "def diff_neuro(weights,x):\n",
        "    return diffsig(np.sum(weights*x)) "
      ],
      "metadata": {
        "id": "PG1H1QsjvZxs"
      },
      "execution_count": 117,
      "outputs": []
    },
    {
      "cell_type": "markdown",
      "source": [
        "Для получения результата работы выходного слоя вводим функцию простого суммирования без активации."
      ],
      "metadata": {
        "id": "zLKgQ2WLvco_"
      }
    },
    {
      "cell_type": "code",
      "source": [
        "def neuro_sum(weights,x):\n",
        "    return np.sum(weights*x)"
      ],
      "metadata": {
        "id": "1JXwm07xvjvt"
      },
      "execution_count": 118,
      "outputs": []
    },
    {
      "cell_type": "markdown",
      "source": [
        "Функция получения ответа от сети по элементу x с текущими весами weight1,weught2,weight3\n"
      ],
      "metadata": {
        "id": "88f5GkKDjD6t"
      }
    },
    {
      "cell_type": "code",
      "source": [
        "def answer(x):\n",
        "    # Значения первого слоя\n",
        "    neu11 = neuro_activate(weights1[0], x)\n",
        "    neu12 = neuro_activate(weights1[1], x)\n",
        "\n",
        "    # Значения второго слоя\n",
        "    neu21 = neuro_activate(weights2[0], np.array([neu11, neu12]))\n",
        "    neu22 = neuro_activate(weights2[1], np.array([neu11, neu12]))\n",
        "\n",
        "    # Значение выхода сети\n",
        "    neu31 = neuro_sum(weights3, np.array([neu21, neu22]))\n",
        "\n",
        "    return neu31.round(3)"
      ],
      "metadata": {
        "id": "j_rNHNopjMen"
      },
      "execution_count": 119,
      "outputs": []
    },
    {
      "cell_type": "markdown",
      "source": [
        "Функция потерь (MSE)\n",
        "\n",
        "$E(w_1,...,w_n)=\\frac{\\sum_{i=1}^m{(y-\\phi(\\sum_{i=1}^n{w_ix_i}))^2}}{m}$"
      ],
      "metadata": {
        "id": "VczNU1puNftK"
      }
    },
    {
      "cell_type": "code",
      "source": [
        "def loss_func(weights1,weights2,weights3, dataY, dataX):\n",
        "    E = 0\n",
        "    for i in range(m):\n",
        "        E += (dataY[i] - answer(dataX[i]))**2\n",
        "        \n",
        "    E = E/len(dataY)\n",
        "    return E"
      ],
      "metadata": {
        "id": "HyagAFJHNhUS"
      },
      "execution_count": 120,
      "outputs": []
    },
    {
      "cell_type": "markdown",
      "source": [
        "# Работа алгоритма"
      ],
      "metadata": {
        "id": "FwzX8FkVZafE"
      }
    },
    {
      "cell_type": "markdown",
      "source": [
        "Стохастический градиентный спуск - после анализа каждого элемента выборки будем менять веса модели по формуле\n",
        "$w_i=w_i-h\\frac{\\partial E}{\\partial w_i}$\n"
      ],
      "metadata": {
        "id": "rcIqA68CaiGD"
      }
    },
    {
      "cell_type": "code",
      "source": [
        "# счетчик итераций без улучшений, \n",
        "# заканчиваем цикл, если он достигнет параметра patience\n",
        "failure_stop = 0\n",
        "index = np.arange(m)\n",
        "# счетчик итераций\n",
        "t = 0\n",
        "# Список для запоминания функции ошибки\n",
        "E = list()\n",
        "# Задаем влияние инерции\n",
        "gammav = 0.2\n",
        "# Задаем влияние масштабирования\n",
        "gammag = 0.2\n",
        "# Инициализируем инерцию\n",
        "v1 = np.full((2,4),0.01)\n",
        "v2 = np.full((2,2),0.01)\n",
        "v3 = np.array([[0.01,0.01]])\n",
        "# Инициализируем масштабирование\n",
        "g1 = np.full((2,4),0.02)\n",
        "g2 = np.full((2,2),0.02)\n",
        "g3 = np.array([[0.02,0.02]])"
      ],
      "metadata": {
        "id": "4QdpcATEPjhX"
      },
      "execution_count": 121,
      "outputs": []
    },
    {
      "cell_type": "code",
      "source": [
        "# Производные для весов входного слоя\n",
        "diffEw1 = np.empty([2,4])\n",
        "# Производные для весов скрытого слоя\n",
        "diffEw2 = np.empty([2,2])\n",
        "# Производные для весов выходного слоя\n",
        "diffEw3 = np.empty([2,2])"
      ],
      "metadata": {
        "id": "Ctv_cq4Og3pE"
      },
      "execution_count": 122,
      "outputs": []
    },
    {
      "cell_type": "code",
      "source": [
        "for k in range(4000):\n",
        "    # перемешиваем порядок просмотра выборки\n",
        "    np.random.shuffle(index)\n",
        "    \n",
        "    # если идет не первая итерация, то запоминаем предыдущее значение функции ошибки\n",
        "    if k>0:\n",
        "      loss_old = loss_new\n",
        "\n",
        "    for i in index:\n",
        "        # Посчитаем значения на выходах нейронов для 0 элемента обучающей выборки\n",
        "        # Входного слоя\n",
        "        neu_in = np.array([\n",
        "            neuro_activate(weights1[0],dataX[i]),\n",
        "            neuro_activate(weights1[1], dataX[i])\n",
        "        ])\n",
        "\n",
        "        # Скрытого слоя\n",
        "        neu_deep = np.array([\n",
        "            neuro_activate(weights2[0],neu_in),\n",
        "            neuro_activate(weights2[1],neu_in)\n",
        "        ])\n",
        "\n",
        "        # Выходного слоя\n",
        "        neu_out = neuro_sum(weights3,neu_deep)\n",
        "        # print('neu_out')\n",
        "        # print(neu_out)\n",
        "\n",
        "        # Рассчитаем ошибку ответа сети\n",
        "        delta = dataY[i] - neu_out\n",
        "\n",
        "        # Посчитаем значение градиента функции потерь, используя обратное распространение ошибки delta\n",
        "        # Производные для весов выходного слоя\n",
        "        diffEw3 = 2 * delta * neu_deep\n",
        "\n",
        "        # Производные для весов скрытого слоя\n",
        "        for neuron in np.arange(2):\n",
        "            for weight in np.arange(2):\n",
        "                diffEw2[neuron][weight] = 2 * delta*weights3[0][neuron] *diff_neuro(weights2[neuron], neu_in)* neu_in[weight]\n",
        "\n",
        "        # Производные для весов входного слоя\n",
        "        for neuron in np.arange(2):\n",
        "            for weight in np.arange(4):\n",
        "                diffEw1[neuron][weight] = 2 * delta * (\n",
        "                        weights3[0][0] * diff_neuro(weights2[0], neu_in) * weights2[0][neuron] +\n",
        "                        weights3[0][1] * diff_neuro(weights2[1], neu_in) * weights2[1][neuron]\n",
        "                ) * diff_neuro(weights1[neuron], dataX[i]) * dataX[i][weight]\n",
        "\n",
        "        # Корректируем инерцию\n",
        "        gvt = (1 - gammav**(t+1))\n",
        "        v1[0] = (gammav * v1[0] + (1 - gammav) * diffEw1[0]) / gvt\n",
        "        v1[1] = (gammav * v1[1] + (1 - gammav) * diffEw1[1]) / gvt\n",
        "\n",
        "        v2[0] = (gammav * v2[0] + (1 - gammav) * diffEw2[0]) / gvt\n",
        "        v2[1] = (gammav * v2[1] + (1 - gammav) * diffEw2[1]) / gvt\n",
        "\n",
        "        v3[0] = (gammav * v3[0] + (1 - gammav) * diffEw3) / gvt\n",
        "\n",
        "        #Корректируем масштабирование\n",
        "        ggt = (1 - gammag**(t+1))\n",
        "        g1[0] = (gammag * g1[0] + (1 - gammag) * diffEw1[0]**2)/ ggt\n",
        "        g1[1] = (gammag * g1[1] + (1 - gammag) * diffEw1[1] ** 2) / ggt\n",
        "\n",
        "        g2[0] = (gammag * g2[0] + (1 - gammag) * diffEw2[0] ** 2) / ggt\n",
        "        g2[1] = (gammag * g2[1] + (1 - gammag) * diffEw2[1] ** 2) / ggt\n",
        "\n",
        "        g3[0] = (gammag * g3[0] + (1 - gammag) * diffEw3 ** 2) / ggt\n",
        "\n",
        "        #Корректируем веса\n",
        "        #Веса нейронов входного слоя\n",
        "        for j in [0,1]:\n",
        "            weights1[j] = weights1[j] + h*v1[j]/ np.sqrt(g1[j] + eps)\n",
        "\n",
        "        #Веса нейронов скрытого слоя\n",
        "        for j in [0,1]:\n",
        "            weights2[j] = weights2[j] + h * v2[j] / np.sqrt(g2[j] + eps)\n",
        "\n",
        "        #Веса нейрона выходного слоя\n",
        "        weights3[0] = weights3[0] + h*v3[0] / np.sqrt(g3[0] + eps)\n",
        "\n",
        "        t += 1\n",
        "\n",
        "    # Вычисляем новое значение функции ошибки\n",
        "    loss_new = loss_func(weights1,weights2,weights3, dataY, dataX)\n",
        "    E.append(loss_new)\n",
        "\n",
        "    # Если итерация не первая, то проверяем, улучшилась ли точность\n",
        "    if k>0 and (abs(loss_new - loss_old) < eps):\n",
        "        failure_stop += 1\n",
        "    else:\n",
        "        failure_stop = 0\n",
        "\n",
        "    if loss_new < eps_func:\n",
        "        print(k + 1, 'я итерация. E = ',\n",
        "              round(loss_new, 6))\n",
        "        break\n",
        "    if failure_stop == patience:\n",
        "        break\n",
        "    else:\n",
        "        print(k + 1, 'я итерация. E = ',\n",
        "              round(loss_new, 6))"
      ],
      "metadata": {
        "colab": {
          "base_uri": "https://localhost:8080/"
        },
        "id": "Qk7uy4nrfXyf",
        "outputId": "4bf85b80-6808-4f3d-cb99-523134e37e5f"
      },
      "execution_count": 123,
      "outputs": [
        {
          "output_type": "stream",
          "name": "stdout",
          "text": [
            "1 я итерация. E =  0.844876\n",
            "2 я итерация. E =  0.863781\n",
            "3 я итерация. E =  0.983294\n",
            "4 я итерация. E =  0.911026\n",
            "5 я итерация. E =  1.173868\n",
            "6 я итерация. E =  0.934648\n",
            "7 я итерация. E =  0.889562\n",
            "8 я итерация. E =  0.937215\n",
            "9 я итерация. E =  0.876863\n",
            "10 я итерация. E =  1.186923\n",
            "11 я итерация. E =  0.83228\n",
            "12 я итерация. E =  0.832638\n",
            "13 я итерация. E =  0.833158\n",
            "14 я итерация. E =  0.95531\n",
            "15 я итерация. E =  0.917562\n",
            "16 я итерация. E =  2.172072\n",
            "17 я итерация. E =  1.805443\n",
            "18 я итерация. E =  0.890947\n",
            "19 я итерация. E =  0.888294\n",
            "20 я итерация. E =  0.86339\n",
            "21 я итерация. E =  0.887453\n",
            "22 я итерация. E =  0.848603\n",
            "23 я итерация. E =  0.854788\n",
            "24 я итерация. E =  1.187751\n",
            "25 я итерация. E =  0.835987\n",
            "26 я итерация. E =  0.856383\n",
            "27 я итерация. E =  0.840094\n",
            "28 я итерация. E =  0.901857\n",
            "29 я итерация. E =  0.842791\n",
            "30 я итерация. E =  0.920625\n",
            "31 я итерация. E =  1.395242\n",
            "32 я итерация. E =  0.857957\n",
            "33 я итерация. E =  0.966564\n",
            "34 я итерация. E =  0.893709\n",
            "35 я итерация. E =  0.915005\n",
            "36 я итерация. E =  0.889366\n",
            "37 я итерация. E =  1.031722\n",
            "38 я итерация. E =  0.845796\n",
            "39 я итерация. E =  0.860496\n",
            "40 я итерация. E =  0.841788\n",
            "41 я итерация. E =  0.833816\n",
            "42 я итерация. E =  0.849357\n",
            "43 я итерация. E =  0.863903\n",
            "44 я итерация. E =  0.838011\n",
            "45 я итерация. E =  1.893717\n",
            "46 я итерация. E =  0.964846\n",
            "47 я итерация. E =  0.914753\n",
            "48 я итерация. E =  0.965343\n",
            "49 я итерация. E =  0.974721\n",
            "50 я итерация. E =  0.831903\n",
            "51 я итерация. E =  0.851745\n",
            "52 я итерация. E =  0.89331\n",
            "53 я итерация. E =  0.861773\n",
            "54 я итерация. E =  0.949331\n",
            "55 я итерация. E =  1.292675\n",
            "56 я итерация. E =  0.889718\n",
            "57 я итерация. E =  0.971649\n",
            "58 я итерация. E =  1.156438\n",
            "59 я итерация. E =  0.847132\n",
            "60 я итерация. E =  0.865404\n",
            "61 я итерация. E =  0.841626\n",
            "62 я итерация. E =  0.93185\n",
            "63 я итерация. E =  1.259469\n",
            "64 я итерация. E =  0.868326\n",
            "65 я итерация. E =  0.906591\n",
            "66 я итерация. E =  1.069688\n",
            "67 я итерация. E =  0.852719\n",
            "68 я итерация. E =  0.951392\n",
            "69 я итерация. E =  0.831498\n",
            "70 я итерация. E =  1.292233\n",
            "71 я итерация. E =  0.890123\n",
            "72 я итерация. E =  0.867301\n",
            "73 я итерация. E =  0.964037\n",
            "74 я итерация. E =  1.662499\n",
            "75 я итерация. E =  1.16787\n",
            "76 я итерация. E =  0.934271\n",
            "77 я итерация. E =  1.746222\n",
            "78 я итерация. E =  0.859332\n",
            "79 я итерация. E =  0.944652\n",
            "80 я итерация. E =  0.831026\n",
            "81 я итерация. E =  1.049365\n",
            "82 я итерация. E =  0.888991\n",
            "83 я итерация. E =  1.14516\n",
            "84 я итерация. E =  1.275754\n",
            "85 я итерация. E =  0.926694\n",
            "86 я итерация. E =  0.879839\n",
            "87 я итерация. E =  0.835049\n",
            "88 я итерация. E =  1.114094\n",
            "89 я итерация. E =  1.092357\n",
            "90 я итерация. E =  0.928931\n",
            "91 я итерация. E =  1.012469\n",
            "92 я итерация. E =  1.281159\n",
            "93 я итерация. E =  0.850622\n",
            "94 я итерация. E =  1.193204\n",
            "95 я итерация. E =  0.84154\n",
            "96 я итерация. E =  0.857722\n",
            "97 я итерация. E =  0.845773\n",
            "98 я итерация. E =  0.99671\n",
            "99 я итерация. E =  0.92136\n",
            "100 я итерация. E =  0.853912\n",
            "101 я итерация. E =  1.025484\n",
            "102 я итерация. E =  0.865864\n",
            "103 я итерация. E =  1.11659\n",
            "104 я итерация. E =  0.843973\n",
            "105 я итерация. E =  0.927378\n",
            "106 я итерация. E =  0.870949\n",
            "107 я итерация. E =  0.886314\n",
            "108 я итерация. E =  0.859479\n",
            "109 я итерация. E =  0.866367\n",
            "110 я итерация. E =  0.832866\n",
            "111 я итерация. E =  0.865357\n",
            "112 я итерация. E =  1.435198\n",
            "113 я итерация. E =  0.844522\n",
            "114 я итерация. E =  0.937181\n",
            "115 я итерация. E =  1.058826\n",
            "116 я итерация. E =  1.006356\n",
            "117 я итерация. E =  1.371675\n",
            "118 я итерация. E =  0.842387\n",
            "119 я итерация. E =  0.853775\n",
            "120 я итерация. E =  0.972728\n",
            "121 я итерация. E =  1.032702\n",
            "122 я итерация. E =  0.874642\n",
            "123 я итерация. E =  0.838044\n",
            "124 я итерация. E =  0.830437\n",
            "125 я итерация. E =  1.013802\n",
            "126 я итерация. E =  0.853346\n",
            "127 я итерация. E =  0.873349\n",
            "128 я итерация. E =  0.831197\n",
            "129 я итерация. E =  1.001357\n",
            "130 я итерация. E =  1.096315\n",
            "131 я итерация. E =  0.845883\n",
            "132 я итерация. E =  0.869377\n",
            "133 я итерация. E =  0.944346\n",
            "134 я итерация. E =  0.867825\n",
            "135 я итерация. E =  0.961391\n",
            "136 я итерация. E =  0.842455\n",
            "137 я итерация. E =  1.023246\n",
            "138 я итерация. E =  1.101892\n",
            "139 я итерация. E =  0.912983\n",
            "140 я итерация. E =  1.187377\n",
            "141 я итерация. E =  0.991841\n",
            "142 я итерация. E =  0.889245\n",
            "143 я итерация. E =  0.854627\n",
            "144 я итерация. E =  1.088918\n",
            "145 я итерация. E =  0.867406\n",
            "146 я итерация. E =  1.234287\n",
            "147 я итерация. E =  0.947322\n",
            "148 я итерация. E =  1.112654\n",
            "149 я итерация. E =  0.938666\n",
            "150 я итерация. E =  0.919213\n",
            "151 я итерация. E =  0.870544\n",
            "152 я итерация. E =  1.455384\n",
            "153 я итерация. E =  0.844934\n",
            "154 я итерация. E =  1.141833\n",
            "155 я итерация. E =  1.235206\n",
            "156 я итерация. E =  0.88191\n",
            "157 я итерация. E =  0.858138\n",
            "158 я итерация. E =  1.034849\n",
            "159 я итерация. E =  0.844108\n",
            "160 я итерация. E =  1.395706\n",
            "161 я итерация. E =  0.900937\n",
            "162 я итерация. E =  0.865861\n",
            "163 я итерация. E =  0.846681\n",
            "164 я итерация. E =  0.958136\n",
            "165 я итерация. E =  1.41756\n",
            "166 я итерация. E =  1.032294\n",
            "167 я итерация. E =  0.941244\n",
            "168 я итерация. E =  0.873353\n",
            "169 я итерация. E =  0.945658\n",
            "170 я итерация. E =  0.868496\n",
            "171 я итерация. E =  0.987304\n",
            "172 я итерация. E =  0.883937\n",
            "173 я итерация. E =  0.897499\n",
            "174 я итерация. E =  0.917625\n",
            "175 я итерация. E =  0.832747\n",
            "176 я итерация. E =  0.835945\n",
            "177 я итерация. E =  0.964351\n",
            "178 я итерация. E =  0.844558\n",
            "179 я итерация. E =  0.888963\n",
            "180 я итерация. E =  0.948905\n",
            "181 я итерация. E =  0.838857\n",
            "182 я итерация. E =  0.845741\n",
            "183 я итерация. E =  0.902662\n",
            "184 я итерация. E =  0.836204\n",
            "185 я итерация. E =  0.953286\n",
            "186 я итерация. E =  0.908661\n",
            "187 я итерация. E =  0.920856\n",
            "188 я итерация. E =  0.834438\n",
            "189 я итерация. E =  0.884925\n",
            "190 я итерация. E =  0.97603\n",
            "191 я итерация. E =  1.13512\n",
            "192 я итерация. E =  1.564617\n",
            "193 я итерация. E =  1.006496\n",
            "194 я итерация. E =  1.010019\n",
            "195 я итерация. E =  0.926384\n",
            "196 я итерация. E =  0.952677\n",
            "197 я итерация. E =  1.134845\n",
            "198 я итерация. E =  0.867808\n",
            "199 я итерация. E =  1.196763\n",
            "200 я итерация. E =  0.968349\n",
            "201 я итерация. E =  1.107319\n",
            "202 я итерация. E =  1.287613\n",
            "203 я итерация. E =  1.328342\n",
            "204 я итерация. E =  1.792839\n",
            "205 я итерация. E =  1.233241\n",
            "206 я итерация. E =  0.97087\n",
            "207 я итерация. E =  1.165466\n",
            "208 я итерация. E =  1.832604\n",
            "209 я итерация. E =  1.464451\n",
            "210 я итерация. E =  1.176658\n",
            "211 я итерация. E =  1.102354\n",
            "212 я итерация. E =  1.338828\n",
            "213 я итерация. E =  1.146626\n",
            "214 я итерация. E =  0.940188\n",
            "215 я итерация. E =  1.059979\n",
            "216 я итерация. E =  0.865392\n",
            "217 я итерация. E =  0.953793\n",
            "218 я итерация. E =  0.868131\n",
            "219 я итерация. E =  0.894412\n",
            "220 я итерация. E =  1.208662\n",
            "221 я итерация. E =  0.940678\n",
            "222 я итерация. E =  0.849748\n",
            "223 я итерация. E =  1.616623\n",
            "224 я итерация. E =  1.36626\n",
            "225 я итерация. E =  0.964098\n",
            "226 я итерация. E =  0.874516\n",
            "227 я итерация. E =  1.073603\n",
            "228 я итерация. E =  1.342229\n",
            "229 я итерация. E =  1.061346\n",
            "230 я итерация. E =  0.853462\n",
            "231 я итерация. E =  1.297134\n",
            "232 я итерация. E =  1.283661\n",
            "233 я итерация. E =  1.037018\n",
            "234 я итерация. E =  0.889368\n",
            "235 я итерация. E =  0.879241\n",
            "236 я итерация. E =  1.335521\n",
            "237 я итерация. E =  0.836338\n",
            "238 я итерация. E =  1.379946\n",
            "239 я итерация. E =  0.846341\n",
            "240 я итерация. E =  0.930111\n",
            "241 я итерация. E =  1.187331\n",
            "242 я итерация. E =  1.185602\n",
            "243 я итерация. E =  0.864735\n",
            "244 я итерация. E =  1.311384\n",
            "245 я итерация. E =  1.000056\n",
            "246 я итерация. E =  0.859005\n",
            "247 я итерация. E =  0.930415\n",
            "248 я итерация. E =  1.238421\n",
            "249 я итерация. E =  0.906477\n",
            "250 я итерация. E =  0.939599\n",
            "251 я итерация. E =  1.175288\n",
            "252 я итерация. E =  0.87488\n",
            "253 я итерация. E =  0.987995\n",
            "254 я итерация. E =  0.933051\n",
            "255 я итерация. E =  0.969647\n",
            "256 я итерация. E =  0.876573\n",
            "257 я итерация. E =  1.934294\n",
            "258 я итерация. E =  2.243877\n",
            "259 я итерация. E =  1.639115\n",
            "260 я итерация. E =  1.29222\n",
            "261 я итерация. E =  0.864625\n",
            "262 я итерация. E =  0.974777\n",
            "263 я итерация. E =  1.184923\n",
            "264 я итерация. E =  1.114697\n",
            "265 я итерация. E =  1.84736\n",
            "266 я итерация. E =  1.485352\n",
            "267 я итерация. E =  1.809675\n",
            "268 я итерация. E =  1.235891\n",
            "269 я итерация. E =  1.103929\n",
            "270 я итерация. E =  1.2784\n",
            "271 я итерация. E =  0.982538\n",
            "272 я итерация. E =  0.986473\n",
            "273 я итерация. E =  1.030373\n",
            "274 я итерация. E =  1.058072\n",
            "275 я итерация. E =  0.853296\n",
            "276 я итерация. E =  2.646968\n",
            "277 я итерация. E =  1.001112\n",
            "278 я итерация. E =  1.275428\n",
            "279 я итерация. E =  1.010653\n",
            "280 я итерация. E =  1.095571\n",
            "281 я итерация. E =  0.980972\n",
            "282 я итерация. E =  1.091337\n",
            "283 я итерация. E =  1.17857\n",
            "284 я итерация. E =  1.537574\n",
            "285 я итерация. E =  0.936132\n",
            "286 я итерация. E =  1.032319\n",
            "287 я итерация. E =  1.367929\n",
            "288 я итерация. E =  0.930458\n",
            "289 я итерация. E =  0.91608\n",
            "290 я итерация. E =  1.002838\n",
            "291 я итерация. E =  1.61074\n",
            "292 я итерация. E =  1.364312\n",
            "293 я итерация. E =  1.442571\n",
            "294 я итерация. E =  1.27823\n",
            "295 я итерация. E =  0.85052\n",
            "296 я итерация. E =  1.051792\n",
            "297 я итерация. E =  1.215889\n",
            "298 я итерация. E =  1.43593\n",
            "299 я итерация. E =  1.249478\n",
            "300 я итерация. E =  0.896685\n",
            "301 я итерация. E =  0.917686\n",
            "302 я итерация. E =  0.978099\n",
            "303 я итерация. E =  1.196397\n",
            "304 я итерация. E =  0.827924\n",
            "305 я итерация. E =  0.847262\n",
            "306 я итерация. E =  0.98909\n",
            "307 я итерация. E =  1.172982\n",
            "308 я итерация. E =  0.994523\n",
            "309 я итерация. E =  1.209901\n",
            "310 я итерация. E =  1.811244\n",
            "311 я итерация. E =  1.155711\n",
            "312 я итерация. E =  1.003259\n",
            "313 я итерация. E =  1.275043\n",
            "314 я итерация. E =  1.545961\n",
            "315 я итерация. E =  0.951422\n",
            "316 я итерация. E =  0.855542\n",
            "317 я итерация. E =  0.943518\n",
            "318 я итерация. E =  1.112225\n",
            "319 я итерация. E =  1.279826\n",
            "320 я итерация. E =  0.932021\n",
            "321 я итерация. E =  0.894811\n",
            "322 я итерация. E =  0.944571\n",
            "323 я итерация. E =  1.220756\n",
            "324 я итерация. E =  0.900691\n",
            "325 я итерация. E =  0.920805\n",
            "326 я итерация. E =  0.967713\n",
            "327 я итерация. E =  1.181179\n",
            "328 я итерация. E =  0.877802\n",
            "329 я итерация. E =  0.851529\n",
            "330 я итерация. E =  0.96648\n",
            "331 я итерация. E =  1.192303\n",
            "332 я итерация. E =  1.225281\n",
            "333 я итерация. E =  1.107775\n",
            "334 я итерация. E =  0.925621\n",
            "335 я итерация. E =  0.96883\n",
            "336 я итерация. E =  0.927442\n",
            "337 я итерация. E =  0.860078\n",
            "338 я итерация. E =  1.212058\n",
            "339 я итерация. E =  0.866806\n",
            "340 я итерация. E =  0.836675\n",
            "341 я итерация. E =  0.897899\n",
            "342 я итерация. E =  0.855211\n",
            "343 я итерация. E =  1.009188\n",
            "344 я итерация. E =  1.573861\n",
            "345 я итерация. E =  0.879093\n",
            "346 я итерация. E =  1.561427\n",
            "347 я итерация. E =  1.2061\n",
            "348 я итерация. E =  0.959965\n",
            "349 я итерация. E =  0.249283\n",
            "350 я итерация. E =  2.732691\n",
            "351 я итерация. E =  0.715851\n",
            "352 я итерация. E =  0.374943\n",
            "353 я итерация. E =  0.189985\n",
            "354 я итерация. E =  0.217181\n",
            "355 я итерация. E =  0.453514\n",
            "356 я итерация. E =  0.365455\n",
            "357 я итерация. E =  1.20369\n",
            "358 я итерация. E =  1.124023\n",
            "359 я итерация. E =  1.872695\n",
            "360 я итерация. E =  1.143995\n",
            "361 я итерация. E =  0.948117\n",
            "362 я итерация. E =  0.155645\n",
            "363 я итерация. E =  0.068888\n",
            "364 я итерация. E =  0.299733\n",
            "365 я итерация. E =  0.361886\n",
            "366 я итерация. E =  2.623372\n",
            "367 я итерация. E =  0.27899\n",
            "368 я итерация. E =  0.307771\n",
            "369 я итерация. E =  0.793855\n",
            "370 я итерация. E =  0.459416\n",
            "371 я итерация. E =  0.280893\n",
            "372 я итерация. E =  0.596072\n",
            "373 я итерация. E =  0.415438\n",
            "374 я итерация. E =  0.441378\n",
            "375 я итерация. E =  0.470826\n",
            "376 я итерация. E =  0.733569\n",
            "377 я итерация. E =  0.261369\n",
            "378 я итерация. E =  0.114455\n",
            "379 я итерация. E =  0.093944\n",
            "380 я итерация. E =  0.078413\n",
            "381 я итерация. E =  0.764175\n",
            "382 я итерация. E =  0.216566\n",
            "383 я итерация. E =  0.275842\n",
            "384 я итерация. E =  0.223563\n",
            "385 я итерация. E =  0.249766\n",
            "386 я итерация. E =  0.377863\n",
            "387 я итерация. E =  0.204866\n",
            "388 я итерация. E =  0.536688\n",
            "389 я итерация. E =  0.297151\n",
            "390 я итерация. E =  0.578557\n",
            "391 я итерация. E =  2.46923\n",
            "392 я итерация. E =  0.071165\n",
            "393 я итерация. E =  0.186341\n",
            "394 я итерация. E =  1.831882\n",
            "395 я итерация. E =  0.269232\n",
            "396 я итерация. E =  1.279487\n",
            "397 я итерация. E =  0.163517\n",
            "398 я итерация. E =  0.323323\n",
            "399 я итерация. E =  0.544221\n",
            "400 я итерация. E =  0.375098\n",
            "401 я итерация. E =  0.605108\n",
            "402 я итерация. E =  1.034597\n",
            "403 я итерация. E =  0.074731\n",
            "404 я итерация. E =  0.056591\n"
          ]
        }
      ]
    },
    {
      "cell_type": "code",
      "source": [
        "print(f'Алгоритм проработал {k+1} итераций.')\n",
        "print('Значение функции ошибки: E = ', loss_new)\n",
        "print(f'Найденные веса: {weights1} {weights2} {weights3}')"
      ],
      "metadata": {
        "colab": {
          "base_uri": "https://localhost:8080/"
        },
        "id": "vAEL8eE-foSe",
        "outputId": "9419366d-5f8d-4646-954d-d0cb81beeb5f"
      },
      "execution_count": 124,
      "outputs": [
        {
          "output_type": "stream",
          "name": "stdout",
          "text": [
            "Алгоритм проработал 404 итераций.\n",
            "Значение функции ошибки: E =  0.05659064705882354\n",
            "Найденные веса: [[ 15.84532994  -6.96031839   9.97735676   3.65071118]\n",
            " [-18.33702085 -16.31779014 -13.15368976 -15.99760754]] [[-49.11745459  -1.83683994]\n",
            " [ -1.73805392 -10.76056578]] [[-11.560435    10.18279741]]\n"
          ]
        }
      ]
    },
    {
      "cell_type": "markdown",
      "source": [
        "График изменения функции ошибки"
      ],
      "metadata": {
        "id": "MH5Rp-_JmvqC"
      }
    },
    {
      "cell_type": "code",
      "source": [
        "plt.plot(E)\n",
        "plt.xlabel('Итерации алгоритма')\n",
        "plt.ylabel('Значение функции ошибки')\n",
        "plt.show()\n"
      ],
      "metadata": {
        "colab": {
          "base_uri": "https://localhost:8080/",
          "height": 449
        },
        "id": "QpS2XE0QmzNz",
        "outputId": "9baa8bdc-1105-48b9-9782-2bab0c47e13f"
      },
      "execution_count": 128,
      "outputs": [
        {
          "output_type": "display_data",
          "data": {
            "text/plain": [
              "<Figure size 640x480 with 1 Axes>"
            ],
            "image/png": "[encoded data removed]"
          },
          "metadata": {}
        }
      ]
    },
    {
      "cell_type": "markdown",
      "source": [
        "# Проверка работы алгоритма на обучающей выборке. \n"
      ],
      "metadata": {
        "id": "DtezKE4Qlfyr"
      }
    },
    {
      "cell_type": "code",
      "source": [
        "model_answers = np.empty([dataY.size]) \n",
        "for i in range(dataY.size):\n",
        "    model_answers[i] = answer(dataX[i])\n",
        "print(model_answers)\n",
        "print(dataY)"
      ],
      "metadata": {
        "colab": {
          "base_uri": "https://localhost:8080/"
        },
        "id": "Kf166biIfq8N",
        "outputId": "1b69e862-b43c-480d-c568-4d1b16aff7ca"
      },
      "execution_count": 126,
      "outputs": [
        {
          "output_type": "stream",
          "name": "stdout",
          "text": [
            "[ 1.544  1.525  1.523  1.523  1.523  1.523  1.523  1.528  1.523 -0.03\n",
            " -1.049 -1.522 -1.581 -1.588 -1.588 -1.588 -1.588]\n",
            "[ 1.   1.2  1.3  1.4  1.5  1.6  1.7  1.8  1.9  0.  -1.  -1.2 -1.3 -1.4\n",
            " -1.5 -1.6 -1.7]\n"
          ]
        }
      ]
    },
    {
      "cell_type": "code",
      "source": [
        "plt.plot(model_answers, label='Ответы сети на обучающей выборке')\n",
        "plt.plot(dataY, label='Правильные ответы')\n",
        "plt.xlabel('Номер элемента в выборке')\n",
        "plt.ylabel('Значение ответа')\n",
        "plt.legend()\n",
        "plt.show()\n"
      ],
      "metadata": {
        "colab": {
          "base_uri": "https://localhost:8080/",
          "height": 449
        },
        "id": "aR_kQ8GIZK_F",
        "outputId": "c1ef212f-8935-438d-e327-346d1a4082b1"
      },
      "execution_count": 127,
      "outputs": [
        {
          "output_type": "display_data",
          "data": {
            "text/plain": [
              "<Figure size 640x480 with 1 Axes>"
            ],
            "image/png": "[encoded data removed]"
          },
          "metadata": {}
        }
      ]
    }
  ]
}